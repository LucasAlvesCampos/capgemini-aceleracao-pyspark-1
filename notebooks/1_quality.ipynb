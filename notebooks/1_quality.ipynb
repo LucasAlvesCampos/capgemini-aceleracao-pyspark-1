{
 "cells": [
  {
   "cell_type": "code",
   "execution_count": 1,
   "metadata": {},
   "outputs": [
    {
     "name": "stdout",
     "output_type": "stream",
     "text": [
      "Requirement already satisfied: pyspark in c:\\users\\danielpe\\anaconda3\\lib\\site-packages (3.2.1)\n",
      "Requirement already satisfied: py4j==0.10.9.3 in c:\\users\\danielpe\\anaconda3\\lib\\site-packages (from pyspark) (0.10.9.3)\n",
      "Requirement already satisfied: findspark in c:\\users\\danielpe\\anaconda3\\lib\\site-packages (2.0.1)\n"
     ]
    }
   ],
   "source": [
    "# Installing required packages\n",
    "!pip install pyspark\n",
    "!pip install findspark"
   ]
  },
  {
   "cell_type": "code",
   "execution_count": 2,
   "metadata": {},
   "outputs": [],
   "source": [
    "import findspark\n",
    "findspark.init()"
   ]
  },
  {
   "cell_type": "code",
   "execution_count": 3,
   "metadata": {},
   "outputs": [],
   "source": [
    "# PySpark is the Spark API for Python. In this lab, we use PySpark to initialize the spark context. \n",
    "from pyspark import SparkContext, SparkConf\n",
    "from pyspark.sql import SparkSession\n",
    "from pyspark.sql.types import StructType, StructField, StringType, IntegerType, FloatType"
   ]
  },
  {
   "cell_type": "code",
   "execution_count": 4,
   "metadata": {},
   "outputs": [],
   "source": [
    "# Criar o contexto do spark\n",
    "sc = SparkContext()\n",
    "\n",
    "# Instancia o criador de sessao do spark\n",
    "spark = (SparkSession.builder\n",
    "                     .master(\"local[*]\")\n",
    "                     .appName(\"Aceleração PySpark - Capgemini\"))"
   ]
  },
  {
   "cell_type": "code",
   "execution_count": 5,
   "metadata": {},
   "outputs": [],
   "source": [
    "schema_airports = StructType([\n",
    "    StructField(\"faa\",  StringType(),  True),\n",
    "    StructField(\"name\", StringType(),  True),\n",
    "    StructField(\"lat\",  FloatType(),   True),\n",
    "    StructField(\"lon\",  FloatType(),   True),\n",
    "    StructField(\"alt\",  IntegerType(), True),\n",
    "    StructField(\"tz\",   IntegerType(), True),\n",
    "    StructField(\"dst\",  StringType(),  True)\n",
    "])\n",
    "\n",
    "schema_planes = StructType([\n",
    "    StructField(\"tailnum\",      StringType(),  True),\n",
    "    StructField(\"year\",         IntegerType(), True),\n",
    "    StructField(\"type\",         StringType(),  True),\n",
    "    StructField(\"manufacturer\", StringType(),  True),\n",
    "    StructField(\"model\",        StringType(),  True),\n",
    "    StructField(\"engines\",      IntegerType(), True),\n",
    "    StructField(\"seats\",        IntegerType(), True),\n",
    "    StructField(\"speed\",        IntegerType(), True),\n",
    "    StructField(\"engine\",       StringType(),  True)\n",
    "])\n",
    "\n",
    "schema_flights = StructType([\n",
    "    StructField(\"year\",      IntegerType(), True),\n",
    "    StructField(\"month\",     IntegerType(), True),\n",
    "    StructField(\"day\",       IntegerType(), True),\n",
    "    StructField(\"dep_time\",  StringType(),  True),\n",
    "    StructField(\"dep_delay\", IntegerType(), True),\n",
    "    StructField(\"arr_time\",  StringType(),  True),\n",
    "    StructField(\"arr_delay\", IntegerType(), True),\n",
    "    StructField(\"carrier\",   StringType(),  True),\n",
    "    StructField(\"tailnum\",   StringType(),  True),\n",
    "    StructField(\"flight\",    StringType(),  True),\n",
    "    StructField(\"origin\",    StringType(),  True),\n",
    "    StructField(\"dest\",      StringType(),  True),\n",
    "    StructField(\"air_time\",  IntegerType(), True),\n",
    "    StructField(\"distance\",  IntegerType(), True),\n",
    "    StructField(\"hour\",      IntegerType(), True),\n",
    "    StructField(\"minute\",    IntegerType(), True),\n",
    "])"
   ]
  },
  {
   "cell_type": "code",
   "execution_count": 6,
   "metadata": {},
   "outputs": [],
   "source": [
    "# Carrega os dados com as configurações necessárias\n",
    "\n",
    "path_airports = (\"../data/airports.csv\")\n",
    "\n",
    "df_airports = (spark.getOrCreate().read\n",
    "                  .format(\"csv\")\n",
    "                  .option(\"header\", \"true\")\n",
    "                  .schema(schema_airports)\n",
    "                  .load(path_airports))\n",
    "\n",
    "path_planes = (\"../data/planes.csv\")\n",
    "\n",
    "df_planes = (spark.getOrCreate().read\n",
    "                  .format(\"csv\")\n",
    "                  .option(\"header\", \"true\")\n",
    "                  .schema(schema_planes)\n",
    "                  .load(path_planes))\n",
    "\n",
    "path_flights = (\"../data/flights.csv\")\n",
    "\n",
    "df_flights = (spark.getOrCreate().read\n",
    "                  .format(\"csv\")\n",
    "                  .option(\"header\", \"true\")\n",
    "                  .schema(schema_flights)\n",
    "                  .load(path_flights))"
   ]
  },
  {
   "cell_type": "code",
   "execution_count": 7,
   "metadata": {},
   "outputs": [],
   "source": [
    "# Criacao das visões temporarias\n",
    "\n",
    "df_airports.createOrReplaceTempView('airports')\n",
    "df_planes.createOrReplaceTempView('planes')\n",
    "df_flights.createOrReplaceTempView('flights')"
   ]
  },
  {
   "cell_type": "markdown",
   "metadata": {},
   "source": [
    "## Airport - Perguntas\n"
   ]
  },
  {
   "cell_type": "markdown",
   "metadata": {},
   "source": [
    "#### Pergunta 1"
   ]
  },
  {
   "cell_type": "code",
   "execution_count": 8,
   "metadata": {},
   "outputs": [
    {
     "name": "stdout",
     "output_type": "stream",
     "text": [
      "+---+--------------------+---------+-----------+----+---+---+\n",
      "|faa|                name|      lat|        lon| alt| tz|dst|\n",
      "+---+--------------------+---------+-----------+----+---+---+\n",
      "|04G|   Lansdowne Airport|41.130474|  -80.61958|1044| -5|  A|\n",
      "|06A|Moton Field Munic...| 32.46057|  -85.68003| 264| -5|  A|\n",
      "|06C| Schaumburg Regional| 41.98934|  -88.10124| 801| -6|  A|\n",
      "|06N|     Randall Airport| 41.43191|  -74.39156| 523| -5|  A|\n",
      "|09J|Jekyll Island Air...|31.074472|  -81.42778|  11| -4|  A|\n",
      "|0A9|Elizabethton Muni...|36.371223| -82.173416|1593| -4|  A|\n",
      "|0G6|Williams County A...|41.467304| -84.506775| 730| -5|  A|\n",
      "|0G7|Finger Lakes Regi...|42.883564| -76.781235| 492| -5|  A|\n",
      "|0P2|Shoestring Aviati...|39.794823| -76.647194|1000| -5|  U|\n",
      "|0S9|Jefferson County ...| 48.05381|-122.810646| 108| -8|  A|\n",
      "|0W3|Harford County Ai...|39.566837|   -76.2024| 409| -5|  A|\n",
      "|10C|  Galt Field Airport| 42.40289| -88.375114| 875| -6|  U|\n",
      "|17G|Port Bucyrus-Craw...|40.781555|  -82.97481|1003| -5|  A|\n",
      "|19A|Jackson County Ai...|34.175865|   -83.5616| 951| -4|  U|\n",
      "|1A3|Martin Campbell F...|35.015804|  -84.34683|1789| -4|  A|\n",
      "|1B9| Mansfield Municipal|42.000134|  -71.19677| 122| -5|  A|\n",
      "|1C9|Frazier Lake Airpark|54.013332| -124.76833| 152| -8|  A|\n",
      "|1CS|Clow Internationa...|41.695976| -88.129234| 670| -6|  U|\n",
      "|1G3|  Kent State Airport| 41.15139|  -81.41511|1134| -4|  A|\n",
      "|1OH|     Fortman Airport|40.555325|  -84.38662| 885| -5|  U|\n",
      "+---+--------------------+---------+-----------+----+---+---+\n",
      "only showing top 20 rows\n",
      "\n"
     ]
    }
   ],
   "source": [
    "df_airports.show()"
   ]
  },
  {
   "cell_type": "code",
   "execution_count": 9,
   "metadata": {},
   "outputs": [
    {
     "name": "stdout",
     "output_type": "stream",
     "text": [
      "+------+-----+\n",
      "|qa_faa|count|\n",
      "+------+-----+\n",
      "|     F| 1397|\n",
      "+------+-----+\n",
      "\n"
     ]
    }
   ],
   "source": [
    "from pyspark.sql.functions import when,col, length\n",
    "\n",
    "df_airports = df_airports.withColumn(\"qa_faa\",\n",
    "                        when(df_airports[\"faa\"].rlike(\"^(\\w{3,5})\"), \"F\")\\\n",
    "                       .when(df_airports[\"faa\"].isNull(), \"M\"))\n",
    "\n",
    "df_airports.groupBy(\"qa_faa\").count().distinct().orderBy(\"qa_faa\", ascending=True).show()"
   ]
  },
  {
   "cell_type": "markdown",
   "metadata": {},
   "source": [
    "#### Pergunta 2"
   ]
  },
  {
   "cell_type": "code",
   "execution_count": 10,
   "metadata": {},
   "outputs": [
    {
     "name": "stdout",
     "output_type": "stream",
     "text": [
      "+-------+-----+\n",
      "|qa_name|count|\n",
      "+-------+-----+\n",
      "|   null| 1397|\n",
      "+-------+-----+\n",
      "\n"
     ]
    }
   ],
   "source": [
    "#Adiciona a coluna qa_name verifica as condições da coluna name não ser nula ou vazia e seta o valor \"M\"\n",
    "df_airports = df_airports.withColumn(\"qa_name\", \n",
    "                                     when(df_airports[\"name\"].isNull(), \"M\")\\\n",
    "                                     .when(df_airports[\"name\"]==\"\", \"M\"))\n",
    "\n",
    "df_airports.groupBy(\"qa_name\").count().distinct().orderBy(\"qa_name\", ascending=True).show()"
   ]
  },
  {
   "cell_type": "code",
   "execution_count": 11,
   "metadata": {},
   "outputs": [
    {
     "name": "stdout",
     "output_type": "stream",
     "text": [
      "+---+----+---+---+---+---+---+------+-------+\n",
      "|faa|name|lat|lon|alt| tz|dst|qa_faa|qa_name|\n",
      "+---+----+---+---+---+---+---+------+-------+\n",
      "+---+----+---+---+---+---+---+------+-------+\n",
      "\n"
     ]
    }
   ],
   "source": [
    "#Filtra a coluna qa_name se o valor \"M\"\n",
    "df_airports.filter(df_airports[\"qa_name\"]==\"M\").show()"
   ]
  },
  {
   "cell_type": "markdown",
   "metadata": {},
   "source": [
    "#### Pergunta 3"
   ]
  },
  {
   "cell_type": "code",
   "execution_count": 12,
   "metadata": {},
   "outputs": [
    {
     "name": "stdout",
     "output_type": "stream",
     "text": [
      "+------+-----+\n",
      "|qa_lat|count|\n",
      "+------+-----+\n",
      "|  null| 1397|\n",
      "+------+-----+\n",
      "\n"
     ]
    }
   ],
   "source": [
    "df_airports = df_airports.withColumn(\"qa_lat\", \n",
    "                                     when(df_airports[\"lat\"].isNull(), \"M\")\n",
    "                                     .when(~df_airports[\"lat\"].between(-180,180), \"I\")\n",
    "                                     .when(~df_airports[\"lat\"].rlike(\"\\d\"), \"A\"))\n",
    "\n",
    "df_airports.groupBy(\"qa_lat\").count().distinct().orderBy(\"qa_lat\", ascending=True).show()"
   ]
  },
  {
   "cell_type": "markdown",
   "metadata": {},
   "source": [
    "#### Pergunta 4"
   ]
  },
  {
   "cell_type": "code",
   "execution_count": 13,
   "metadata": {},
   "outputs": [],
   "source": [
    "df_airports = df_airports.withColumn(\"qa_lon\", when(df_airports.lat.isNull(), \"M\"))"
   ]
  },
  {
   "cell_type": "code",
   "execution_count": 14,
   "metadata": {},
   "outputs": [
    {
     "name": "stdout",
     "output_type": "stream",
     "text": [
      "+---+--------------------+---------+-----------+----+---+---+------+-------+------+------+\n",
      "|faa|                name|      lat|        lon| alt| tz|dst|qa_faa|qa_name|qa_lat|qa_lon|\n",
      "+---+--------------------+---------+-----------+----+---+---+------+-------+------+------+\n",
      "|04G|   Lansdowne Airport|41.130474|  -80.61958|1044| -5|  A|     F|   null|  null|  null|\n",
      "|06A|Moton Field Munic...| 32.46057|  -85.68003| 264| -5|  A|     F|   null|  null|  null|\n",
      "|06C| Schaumburg Regional| 41.98934|  -88.10124| 801| -6|  A|     F|   null|  null|  null|\n",
      "|06N|     Randall Airport| 41.43191|  -74.39156| 523| -5|  A|     F|   null|  null|  null|\n",
      "|09J|Jekyll Island Air...|31.074472|  -81.42778|  11| -4|  A|     F|   null|  null|  null|\n",
      "|0A9|Elizabethton Muni...|36.371223| -82.173416|1593| -4|  A|     F|   null|  null|  null|\n",
      "|0G6|Williams County A...|41.467304| -84.506775| 730| -5|  A|     F|   null|  null|  null|\n",
      "|0G7|Finger Lakes Regi...|42.883564| -76.781235| 492| -5|  A|     F|   null|  null|  null|\n",
      "|0P2|Shoestring Aviati...|39.794823| -76.647194|1000| -5|  U|     F|   null|  null|  null|\n",
      "|0S9|Jefferson County ...| 48.05381|-122.810646| 108| -8|  A|     F|   null|  null|  null|\n",
      "|0W3|Harford County Ai...|39.566837|   -76.2024| 409| -5|  A|     F|   null|  null|  null|\n",
      "|10C|  Galt Field Airport| 42.40289| -88.375114| 875| -6|  U|     F|   null|  null|  null|\n",
      "|17G|Port Bucyrus-Craw...|40.781555|  -82.97481|1003| -5|  A|     F|   null|  null|  null|\n",
      "|19A|Jackson County Ai...|34.175865|   -83.5616| 951| -4|  U|     F|   null|  null|  null|\n",
      "|1A3|Martin Campbell F...|35.015804|  -84.34683|1789| -4|  A|     F|   null|  null|  null|\n",
      "|1B9| Mansfield Municipal|42.000134|  -71.19677| 122| -5|  A|     F|   null|  null|  null|\n",
      "|1C9|Frazier Lake Airpark|54.013332| -124.76833| 152| -8|  A|     F|   null|  null|  null|\n",
      "|1CS|Clow Internationa...|41.695976| -88.129234| 670| -6|  U|     F|   null|  null|  null|\n",
      "|1G3|  Kent State Airport| 41.15139|  -81.41511|1134| -4|  A|     F|   null|  null|  null|\n",
      "|1OH|     Fortman Airport|40.555325|  -84.38662| 885| -5|  U|     F|   null|  null|  null|\n",
      "+---+--------------------+---------+-----------+----+---+---+------+-------+------+------+\n",
      "only showing top 20 rows\n",
      "\n"
     ]
    }
   ],
   "source": [
    "df_airports.show()"
   ]
  },
  {
   "cell_type": "code",
   "execution_count": 15,
   "metadata": {},
   "outputs": [],
   "source": [
    "df_airports = df_airports.withColumn(\"qa_lon\", when(~df_airports[\"lon\"].between(-180, 180), \"I\"))"
   ]
  },
  {
   "cell_type": "code",
   "execution_count": 16,
   "metadata": {},
   "outputs": [
    {
     "name": "stdout",
     "output_type": "stream",
     "text": [
      "+---+--------------------+---------+-----------+----+---+---+------+-------+------+------+\n",
      "|faa|                name|      lat|        lon| alt| tz|dst|qa_faa|qa_name|qa_lat|qa_lon|\n",
      "+---+--------------------+---------+-----------+----+---+---+------+-------+------+------+\n",
      "|04G|   Lansdowne Airport|41.130474|  -80.61958|1044| -5|  A|     F|   null|  null|  null|\n",
      "|06A|Moton Field Munic...| 32.46057|  -85.68003| 264| -5|  A|     F|   null|  null|  null|\n",
      "|06C| Schaumburg Regional| 41.98934|  -88.10124| 801| -6|  A|     F|   null|  null|  null|\n",
      "|06N|     Randall Airport| 41.43191|  -74.39156| 523| -5|  A|     F|   null|  null|  null|\n",
      "|09J|Jekyll Island Air...|31.074472|  -81.42778|  11| -4|  A|     F|   null|  null|  null|\n",
      "|0A9|Elizabethton Muni...|36.371223| -82.173416|1593| -4|  A|     F|   null|  null|  null|\n",
      "|0G6|Williams County A...|41.467304| -84.506775| 730| -5|  A|     F|   null|  null|  null|\n",
      "|0G7|Finger Lakes Regi...|42.883564| -76.781235| 492| -5|  A|     F|   null|  null|  null|\n",
      "|0P2|Shoestring Aviati...|39.794823| -76.647194|1000| -5|  U|     F|   null|  null|  null|\n",
      "|0S9|Jefferson County ...| 48.05381|-122.810646| 108| -8|  A|     F|   null|  null|  null|\n",
      "|0W3|Harford County Ai...|39.566837|   -76.2024| 409| -5|  A|     F|   null|  null|  null|\n",
      "|10C|  Galt Field Airport| 42.40289| -88.375114| 875| -6|  U|     F|   null|  null|  null|\n",
      "|17G|Port Bucyrus-Craw...|40.781555|  -82.97481|1003| -5|  A|     F|   null|  null|  null|\n",
      "|19A|Jackson County Ai...|34.175865|   -83.5616| 951| -4|  U|     F|   null|  null|  null|\n",
      "|1A3|Martin Campbell F...|35.015804|  -84.34683|1789| -4|  A|     F|   null|  null|  null|\n",
      "|1B9| Mansfield Municipal|42.000134|  -71.19677| 122| -5|  A|     F|   null|  null|  null|\n",
      "|1C9|Frazier Lake Airpark|54.013332| -124.76833| 152| -8|  A|     F|   null|  null|  null|\n",
      "|1CS|Clow Internationa...|41.695976| -88.129234| 670| -6|  U|     F|   null|  null|  null|\n",
      "|1G3|  Kent State Airport| 41.15139|  -81.41511|1134| -4|  A|     F|   null|  null|  null|\n",
      "|1OH|     Fortman Airport|40.555325|  -84.38662| 885| -5|  U|     F|   null|  null|  null|\n",
      "+---+--------------------+---------+-----------+----+---+---+------+-------+------+------+\n",
      "only showing top 20 rows\n",
      "\n"
     ]
    }
   ],
   "source": [
    "df_airports.show()"
   ]
  },
  {
   "cell_type": "code",
   "execution_count": 17,
   "metadata": {},
   "outputs": [],
   "source": [
    "df_airports = df_airports.withColumn(\"qa_lon\", when(~df_airports[\"lon\"].rlike(\"\\d\"), \"A\"))"
   ]
  },
  {
   "cell_type": "code",
   "execution_count": 18,
   "metadata": {},
   "outputs": [
    {
     "name": "stdout",
     "output_type": "stream",
     "text": [
      "+---+--------------------+---------+-----------+----+---+---+------+-------+------+------+\n",
      "|faa|                name|      lat|        lon| alt| tz|dst|qa_faa|qa_name|qa_lat|qa_lon|\n",
      "+---+--------------------+---------+-----------+----+---+---+------+-------+------+------+\n",
      "|04G|   Lansdowne Airport|41.130474|  -80.61958|1044| -5|  A|     F|   null|  null|  null|\n",
      "|06A|Moton Field Munic...| 32.46057|  -85.68003| 264| -5|  A|     F|   null|  null|  null|\n",
      "|06C| Schaumburg Regional| 41.98934|  -88.10124| 801| -6|  A|     F|   null|  null|  null|\n",
      "|06N|     Randall Airport| 41.43191|  -74.39156| 523| -5|  A|     F|   null|  null|  null|\n",
      "|09J|Jekyll Island Air...|31.074472|  -81.42778|  11| -4|  A|     F|   null|  null|  null|\n",
      "|0A9|Elizabethton Muni...|36.371223| -82.173416|1593| -4|  A|     F|   null|  null|  null|\n",
      "|0G6|Williams County A...|41.467304| -84.506775| 730| -5|  A|     F|   null|  null|  null|\n",
      "|0G7|Finger Lakes Regi...|42.883564| -76.781235| 492| -5|  A|     F|   null|  null|  null|\n",
      "|0P2|Shoestring Aviati...|39.794823| -76.647194|1000| -5|  U|     F|   null|  null|  null|\n",
      "|0S9|Jefferson County ...| 48.05381|-122.810646| 108| -8|  A|     F|   null|  null|  null|\n",
      "|0W3|Harford County Ai...|39.566837|   -76.2024| 409| -5|  A|     F|   null|  null|  null|\n",
      "|10C|  Galt Field Airport| 42.40289| -88.375114| 875| -6|  U|     F|   null|  null|  null|\n",
      "|17G|Port Bucyrus-Craw...|40.781555|  -82.97481|1003| -5|  A|     F|   null|  null|  null|\n",
      "|19A|Jackson County Ai...|34.175865|   -83.5616| 951| -4|  U|     F|   null|  null|  null|\n",
      "|1A3|Martin Campbell F...|35.015804|  -84.34683|1789| -4|  A|     F|   null|  null|  null|\n",
      "|1B9| Mansfield Municipal|42.000134|  -71.19677| 122| -5|  A|     F|   null|  null|  null|\n",
      "|1C9|Frazier Lake Airpark|54.013332| -124.76833| 152| -8|  A|     F|   null|  null|  null|\n",
      "|1CS|Clow Internationa...|41.695976| -88.129234| 670| -6|  U|     F|   null|  null|  null|\n",
      "|1G3|  Kent State Airport| 41.15139|  -81.41511|1134| -4|  A|     F|   null|  null|  null|\n",
      "|1OH|     Fortman Airport|40.555325|  -84.38662| 885| -5|  U|     F|   null|  null|  null|\n",
      "+---+--------------------+---------+-----------+----+---+---+------+-------+------+------+\n",
      "only showing top 20 rows\n",
      "\n"
     ]
    }
   ],
   "source": [
    "df_airports.show()"
   ]
  },
  {
   "cell_type": "code",
   "execution_count": 19,
   "metadata": {},
   "outputs": [
    {
     "name": "stdout",
     "output_type": "stream",
     "text": [
      "+------+-----+\n",
      "|qa_lon|count|\n",
      "+------+-----+\n",
      "|  null| 1397|\n",
      "+------+-----+\n",
      "\n"
     ]
    }
   ],
   "source": [
    "df_airports.groupBy(\"qa_lon\").count().distinct().orderBy(\"qa_lon\", ascending=True).show()"
   ]
  },
  {
   "cell_type": "markdown",
   "metadata": {},
   "source": [
    "#### Pergunta 5"
   ]
  },
  {
   "cell_type": "code",
   "execution_count": 20,
   "metadata": {},
   "outputs": [
    {
     "name": "stdout",
     "output_type": "stream",
     "text": [
      "+---+--------------------+---------+-----------+----+---+---+------+-------+------+------+\n",
      "|faa|                name|      lat|        lon| alt| tz|dst|qa_faa|qa_name|qa_lat|qa_lon|\n",
      "+---+--------------------+---------+-----------+----+---+---+------+-------+------+------+\n",
      "|04G|   Lansdowne Airport|41.130474|  -80.61958|1044| -5|  A|     F|   null|  null|  null|\n",
      "|06A|Moton Field Munic...| 32.46057|  -85.68003| 264| -5|  A|     F|   null|  null|  null|\n",
      "|06C| Schaumburg Regional| 41.98934|  -88.10124| 801| -6|  A|     F|   null|  null|  null|\n",
      "|06N|     Randall Airport| 41.43191|  -74.39156| 523| -5|  A|     F|   null|  null|  null|\n",
      "|09J|Jekyll Island Air...|31.074472|  -81.42778|  11| -4|  A|     F|   null|  null|  null|\n",
      "|0A9|Elizabethton Muni...|36.371223| -82.173416|1593| -4|  A|     F|   null|  null|  null|\n",
      "|0G6|Williams County A...|41.467304| -84.506775| 730| -5|  A|     F|   null|  null|  null|\n",
      "|0G7|Finger Lakes Regi...|42.883564| -76.781235| 492| -5|  A|     F|   null|  null|  null|\n",
      "|0P2|Shoestring Aviati...|39.794823| -76.647194|1000| -5|  U|     F|   null|  null|  null|\n",
      "|0S9|Jefferson County ...| 48.05381|-122.810646| 108| -8|  A|     F|   null|  null|  null|\n",
      "|0W3|Harford County Ai...|39.566837|   -76.2024| 409| -5|  A|     F|   null|  null|  null|\n",
      "|10C|  Galt Field Airport| 42.40289| -88.375114| 875| -6|  U|     F|   null|  null|  null|\n",
      "|17G|Port Bucyrus-Craw...|40.781555|  -82.97481|1003| -5|  A|     F|   null|  null|  null|\n",
      "|19A|Jackson County Ai...|34.175865|   -83.5616| 951| -4|  U|     F|   null|  null|  null|\n",
      "|1A3|Martin Campbell F...|35.015804|  -84.34683|1789| -4|  A|     F|   null|  null|  null|\n",
      "|1B9| Mansfield Municipal|42.000134|  -71.19677| 122| -5|  A|     F|   null|  null|  null|\n",
      "|1C9|Frazier Lake Airpark|54.013332| -124.76833| 152| -8|  A|     F|   null|  null|  null|\n",
      "|1CS|Clow Internationa...|41.695976| -88.129234| 670| -6|  U|     F|   null|  null|  null|\n",
      "|1G3|  Kent State Airport| 41.15139|  -81.41511|1134| -4|  A|     F|   null|  null|  null|\n",
      "|1OH|     Fortman Airport|40.555325|  -84.38662| 885| -5|  U|     F|   null|  null|  null|\n",
      "+---+--------------------+---------+-----------+----+---+---+------+-------+------+------+\n",
      "only showing top 20 rows\n",
      "\n"
     ]
    }
   ],
   "source": [
    "df_airports.show()"
   ]
  },
  {
   "cell_type": "code",
   "execution_count": 21,
   "metadata": {},
   "outputs": [],
   "source": [
    "df_airports = df_airports.withColumn(\"qa_alt\", \n",
    "                                     when(df_airports[\"alt\"].isNull(), \"M\")\n",
    "                                     .when(df_airports[\"alt\"] < 0, \"I\")\n",
    "                                     .when(~df_airports[\"alt\"].rlike(\"\\d\"), \"A\"))"
   ]
  },
  {
   "cell_type": "code",
   "execution_count": 22,
   "metadata": {},
   "outputs": [
    {
     "name": "stdout",
     "output_type": "stream",
     "text": [
      "+------+-----+\n",
      "|qa_alt|count|\n",
      "+------+-----+\n",
      "|  null| 1395|\n",
      "|     I|    2|\n",
      "+------+-----+\n",
      "\n"
     ]
    }
   ],
   "source": [
    "df_airports.groupBy(\"qa_alt\").count().distinct().orderBy(\"qa_alt\", ascending=True).show()"
   ]
  },
  {
   "cell_type": "markdown",
   "metadata": {},
   "source": [
    "#### Pergunta 6"
   ]
  },
  {
   "cell_type": "code",
   "execution_count": 23,
   "metadata": {},
   "outputs": [],
   "source": [
    "df_airports = df_airports.withColumn(\"qa_tz\", when(df_airports.tz.isNull(), \"M\"))"
   ]
  },
  {
   "cell_type": "code",
   "execution_count": 24,
   "metadata": {},
   "outputs": [
    {
     "name": "stdout",
     "output_type": "stream",
     "text": [
      "+---+--------------------+---------+-----------+----+---+---+------+-------+------+------+------+-----+\n",
      "|faa|                name|      lat|        lon| alt| tz|dst|qa_faa|qa_name|qa_lat|qa_lon|qa_alt|qa_tz|\n",
      "+---+--------------------+---------+-----------+----+---+---+------+-------+------+------+------+-----+\n",
      "|04G|   Lansdowne Airport|41.130474|  -80.61958|1044| -5|  A|     F|   null|  null|  null|  null| null|\n",
      "|06A|Moton Field Munic...| 32.46057|  -85.68003| 264| -5|  A|     F|   null|  null|  null|  null| null|\n",
      "|06C| Schaumburg Regional| 41.98934|  -88.10124| 801| -6|  A|     F|   null|  null|  null|  null| null|\n",
      "|06N|     Randall Airport| 41.43191|  -74.39156| 523| -5|  A|     F|   null|  null|  null|  null| null|\n",
      "|09J|Jekyll Island Air...|31.074472|  -81.42778|  11| -4|  A|     F|   null|  null|  null|  null| null|\n",
      "|0A9|Elizabethton Muni...|36.371223| -82.173416|1593| -4|  A|     F|   null|  null|  null|  null| null|\n",
      "|0G6|Williams County A...|41.467304| -84.506775| 730| -5|  A|     F|   null|  null|  null|  null| null|\n",
      "|0G7|Finger Lakes Regi...|42.883564| -76.781235| 492| -5|  A|     F|   null|  null|  null|  null| null|\n",
      "|0P2|Shoestring Aviati...|39.794823| -76.647194|1000| -5|  U|     F|   null|  null|  null|  null| null|\n",
      "|0S9|Jefferson County ...| 48.05381|-122.810646| 108| -8|  A|     F|   null|  null|  null|  null| null|\n",
      "|0W3|Harford County Ai...|39.566837|   -76.2024| 409| -5|  A|     F|   null|  null|  null|  null| null|\n",
      "|10C|  Galt Field Airport| 42.40289| -88.375114| 875| -6|  U|     F|   null|  null|  null|  null| null|\n",
      "|17G|Port Bucyrus-Craw...|40.781555|  -82.97481|1003| -5|  A|     F|   null|  null|  null|  null| null|\n",
      "|19A|Jackson County Ai...|34.175865|   -83.5616| 951| -4|  U|     F|   null|  null|  null|  null| null|\n",
      "|1A3|Martin Campbell F...|35.015804|  -84.34683|1789| -4|  A|     F|   null|  null|  null|  null| null|\n",
      "|1B9| Mansfield Municipal|42.000134|  -71.19677| 122| -5|  A|     F|   null|  null|  null|  null| null|\n",
      "|1C9|Frazier Lake Airpark|54.013332| -124.76833| 152| -8|  A|     F|   null|  null|  null|  null| null|\n",
      "|1CS|Clow Internationa...|41.695976| -88.129234| 670| -6|  U|     F|   null|  null|  null|  null| null|\n",
      "|1G3|  Kent State Airport| 41.15139|  -81.41511|1134| -4|  A|     F|   null|  null|  null|  null| null|\n",
      "|1OH|     Fortman Airport|40.555325|  -84.38662| 885| -5|  U|     F|   null|  null|  null|  null| null|\n",
      "+---+--------------------+---------+-----------+----+---+---+------+-------+------+------+------+-----+\n",
      "only showing top 20 rows\n",
      "\n"
     ]
    }
   ],
   "source": [
    "df_airports.show()"
   ]
  },
  {
   "cell_type": "code",
   "execution_count": 25,
   "metadata": {},
   "outputs": [],
   "source": [
    "df_airports = df_airports.withColumn(\"qa_tz\", when(df_airports[\"tz\"].between(-11, 14), \"I\"))"
   ]
  },
  {
   "cell_type": "code",
   "execution_count": 26,
   "metadata": {},
   "outputs": [
    {
     "name": "stdout",
     "output_type": "stream",
     "text": [
      "+---+--------------------+---------+-----------+----+---+---+------+-------+------+------+------+-----+\n",
      "|faa|                name|      lat|        lon| alt| tz|dst|qa_faa|qa_name|qa_lat|qa_lon|qa_alt|qa_tz|\n",
      "+---+--------------------+---------+-----------+----+---+---+------+-------+------+------+------+-----+\n",
      "|04G|   Lansdowne Airport|41.130474|  -80.61958|1044| -5|  A|     F|   null|  null|  null|  null|    I|\n",
      "|06A|Moton Field Munic...| 32.46057|  -85.68003| 264| -5|  A|     F|   null|  null|  null|  null|    I|\n",
      "|06C| Schaumburg Regional| 41.98934|  -88.10124| 801| -6|  A|     F|   null|  null|  null|  null|    I|\n",
      "|06N|     Randall Airport| 41.43191|  -74.39156| 523| -5|  A|     F|   null|  null|  null|  null|    I|\n",
      "|09J|Jekyll Island Air...|31.074472|  -81.42778|  11| -4|  A|     F|   null|  null|  null|  null|    I|\n",
      "|0A9|Elizabethton Muni...|36.371223| -82.173416|1593| -4|  A|     F|   null|  null|  null|  null|    I|\n",
      "|0G6|Williams County A...|41.467304| -84.506775| 730| -5|  A|     F|   null|  null|  null|  null|    I|\n",
      "|0G7|Finger Lakes Regi...|42.883564| -76.781235| 492| -5|  A|     F|   null|  null|  null|  null|    I|\n",
      "|0P2|Shoestring Aviati...|39.794823| -76.647194|1000| -5|  U|     F|   null|  null|  null|  null|    I|\n",
      "|0S9|Jefferson County ...| 48.05381|-122.810646| 108| -8|  A|     F|   null|  null|  null|  null|    I|\n",
      "|0W3|Harford County Ai...|39.566837|   -76.2024| 409| -5|  A|     F|   null|  null|  null|  null|    I|\n",
      "|10C|  Galt Field Airport| 42.40289| -88.375114| 875| -6|  U|     F|   null|  null|  null|  null|    I|\n",
      "|17G|Port Bucyrus-Craw...|40.781555|  -82.97481|1003| -5|  A|     F|   null|  null|  null|  null|    I|\n",
      "|19A|Jackson County Ai...|34.175865|   -83.5616| 951| -4|  U|     F|   null|  null|  null|  null|    I|\n",
      "|1A3|Martin Campbell F...|35.015804|  -84.34683|1789| -4|  A|     F|   null|  null|  null|  null|    I|\n",
      "|1B9| Mansfield Municipal|42.000134|  -71.19677| 122| -5|  A|     F|   null|  null|  null|  null|    I|\n",
      "|1C9|Frazier Lake Airpark|54.013332| -124.76833| 152| -8|  A|     F|   null|  null|  null|  null|    I|\n",
      "|1CS|Clow Internationa...|41.695976| -88.129234| 670| -6|  U|     F|   null|  null|  null|  null|    I|\n",
      "|1G3|  Kent State Airport| 41.15139|  -81.41511|1134| -4|  A|     F|   null|  null|  null|  null|    I|\n",
      "|1OH|     Fortman Airport|40.555325|  -84.38662| 885| -5|  U|     F|   null|  null|  null|  null|    I|\n",
      "+---+--------------------+---------+-----------+----+---+---+------+-------+------+------+------+-----+\n",
      "only showing top 20 rows\n",
      "\n"
     ]
    }
   ],
   "source": [
    "df_airports.show()"
   ]
  },
  {
   "cell_type": "code",
   "execution_count": 27,
   "metadata": {},
   "outputs": [],
   "source": [
    "df_airports = df_airports.withColumn(\"qa_tz\", when(~df_airports[\"tz\"].rlike(\"\\d\"), \"A\"))"
   ]
  },
  {
   "cell_type": "code",
   "execution_count": 28,
   "metadata": {},
   "outputs": [
    {
     "name": "stdout",
     "output_type": "stream",
     "text": [
      "+---+--------------------+---------+-----------+----+---+---+------+-------+------+------+------+-----+\n",
      "|faa|                name|      lat|        lon| alt| tz|dst|qa_faa|qa_name|qa_lat|qa_lon|qa_alt|qa_tz|\n",
      "+---+--------------------+---------+-----------+----+---+---+------+-------+------+------+------+-----+\n",
      "|04G|   Lansdowne Airport|41.130474|  -80.61958|1044| -5|  A|     F|   null|  null|  null|  null| null|\n",
      "|06A|Moton Field Munic...| 32.46057|  -85.68003| 264| -5|  A|     F|   null|  null|  null|  null| null|\n",
      "|06C| Schaumburg Regional| 41.98934|  -88.10124| 801| -6|  A|     F|   null|  null|  null|  null| null|\n",
      "|06N|     Randall Airport| 41.43191|  -74.39156| 523| -5|  A|     F|   null|  null|  null|  null| null|\n",
      "|09J|Jekyll Island Air...|31.074472|  -81.42778|  11| -4|  A|     F|   null|  null|  null|  null| null|\n",
      "|0A9|Elizabethton Muni...|36.371223| -82.173416|1593| -4|  A|     F|   null|  null|  null|  null| null|\n",
      "|0G6|Williams County A...|41.467304| -84.506775| 730| -5|  A|     F|   null|  null|  null|  null| null|\n",
      "|0G7|Finger Lakes Regi...|42.883564| -76.781235| 492| -5|  A|     F|   null|  null|  null|  null| null|\n",
      "|0P2|Shoestring Aviati...|39.794823| -76.647194|1000| -5|  U|     F|   null|  null|  null|  null| null|\n",
      "|0S9|Jefferson County ...| 48.05381|-122.810646| 108| -8|  A|     F|   null|  null|  null|  null| null|\n",
      "|0W3|Harford County Ai...|39.566837|   -76.2024| 409| -5|  A|     F|   null|  null|  null|  null| null|\n",
      "|10C|  Galt Field Airport| 42.40289| -88.375114| 875| -6|  U|     F|   null|  null|  null|  null| null|\n",
      "|17G|Port Bucyrus-Craw...|40.781555|  -82.97481|1003| -5|  A|     F|   null|  null|  null|  null| null|\n",
      "|19A|Jackson County Ai...|34.175865|   -83.5616| 951| -4|  U|     F|   null|  null|  null|  null| null|\n",
      "|1A3|Martin Campbell F...|35.015804|  -84.34683|1789| -4|  A|     F|   null|  null|  null|  null| null|\n",
      "|1B9| Mansfield Municipal|42.000134|  -71.19677| 122| -5|  A|     F|   null|  null|  null|  null| null|\n",
      "|1C9|Frazier Lake Airpark|54.013332| -124.76833| 152| -8|  A|     F|   null|  null|  null|  null| null|\n",
      "|1CS|Clow Internationa...|41.695976| -88.129234| 670| -6|  U|     F|   null|  null|  null|  null| null|\n",
      "|1G3|  Kent State Airport| 41.15139|  -81.41511|1134| -4|  A|     F|   null|  null|  null|  null| null|\n",
      "|1OH|     Fortman Airport|40.555325|  -84.38662| 885| -5|  U|     F|   null|  null|  null|  null| null|\n",
      "+---+--------------------+---------+-----------+----+---+---+------+-------+------+------+------+-----+\n",
      "only showing top 20 rows\n",
      "\n"
     ]
    }
   ],
   "source": [
    "df_airports.show()"
   ]
  },
  {
   "cell_type": "code",
   "execution_count": 29,
   "metadata": {},
   "outputs": [
    {
     "name": "stdout",
     "output_type": "stream",
     "text": [
      "+-----+-----+\n",
      "|qa_tz|count|\n",
      "+-----+-----+\n",
      "| null| 1397|\n",
      "+-----+-----+\n",
      "\n"
     ]
    }
   ],
   "source": [
    "df_airports.groupBy(\"qa_tz\").count().distinct().orderBy(\"qa_tz\", ascending=True).show()"
   ]
  },
  {
   "cell_type": "markdown",
   "metadata": {},
   "source": [
    "#### Pergunta 7"
   ]
  },
  {
   "cell_type": "code",
   "execution_count": 30,
   "metadata": {},
   "outputs": [],
   "source": [
    "df_airports = df_airports.withColumn(\"qa_dst\", when(df_airports.dst.isNull(), \"M\"))"
   ]
  },
  {
   "cell_type": "code",
   "execution_count": 31,
   "metadata": {},
   "outputs": [
    {
     "name": "stdout",
     "output_type": "stream",
     "text": [
      "+---+--------------------+---------+-----------+----+---+---+------+-------+------+------+------+-----+------+\n",
      "|faa|                name|      lat|        lon| alt| tz|dst|qa_faa|qa_name|qa_lat|qa_lon|qa_alt|qa_tz|qa_dst|\n",
      "+---+--------------------+---------+-----------+----+---+---+------+-------+------+------+------+-----+------+\n",
      "|04G|   Lansdowne Airport|41.130474|  -80.61958|1044| -5|  A|     F|   null|  null|  null|  null| null|  null|\n",
      "|06A|Moton Field Munic...| 32.46057|  -85.68003| 264| -5|  A|     F|   null|  null|  null|  null| null|  null|\n",
      "|06C| Schaumburg Regional| 41.98934|  -88.10124| 801| -6|  A|     F|   null|  null|  null|  null| null|  null|\n",
      "|06N|     Randall Airport| 41.43191|  -74.39156| 523| -5|  A|     F|   null|  null|  null|  null| null|  null|\n",
      "|09J|Jekyll Island Air...|31.074472|  -81.42778|  11| -4|  A|     F|   null|  null|  null|  null| null|  null|\n",
      "|0A9|Elizabethton Muni...|36.371223| -82.173416|1593| -4|  A|     F|   null|  null|  null|  null| null|  null|\n",
      "|0G6|Williams County A...|41.467304| -84.506775| 730| -5|  A|     F|   null|  null|  null|  null| null|  null|\n",
      "|0G7|Finger Lakes Regi...|42.883564| -76.781235| 492| -5|  A|     F|   null|  null|  null|  null| null|  null|\n",
      "|0P2|Shoestring Aviati...|39.794823| -76.647194|1000| -5|  U|     F|   null|  null|  null|  null| null|  null|\n",
      "|0S9|Jefferson County ...| 48.05381|-122.810646| 108| -8|  A|     F|   null|  null|  null|  null| null|  null|\n",
      "|0W3|Harford County Ai...|39.566837|   -76.2024| 409| -5|  A|     F|   null|  null|  null|  null| null|  null|\n",
      "|10C|  Galt Field Airport| 42.40289| -88.375114| 875| -6|  U|     F|   null|  null|  null|  null| null|  null|\n",
      "|17G|Port Bucyrus-Craw...|40.781555|  -82.97481|1003| -5|  A|     F|   null|  null|  null|  null| null|  null|\n",
      "|19A|Jackson County Ai...|34.175865|   -83.5616| 951| -4|  U|     F|   null|  null|  null|  null| null|  null|\n",
      "|1A3|Martin Campbell F...|35.015804|  -84.34683|1789| -4|  A|     F|   null|  null|  null|  null| null|  null|\n",
      "|1B9| Mansfield Municipal|42.000134|  -71.19677| 122| -5|  A|     F|   null|  null|  null|  null| null|  null|\n",
      "|1C9|Frazier Lake Airpark|54.013332| -124.76833| 152| -8|  A|     F|   null|  null|  null|  null| null|  null|\n",
      "|1CS|Clow Internationa...|41.695976| -88.129234| 670| -6|  U|     F|   null|  null|  null|  null| null|  null|\n",
      "|1G3|  Kent State Airport| 41.15139|  -81.41511|1134| -4|  A|     F|   null|  null|  null|  null| null|  null|\n",
      "|1OH|     Fortman Airport|40.555325|  -84.38662| 885| -5|  U|     F|   null|  null|  null|  null| null|  null|\n",
      "+---+--------------------+---------+-----------+----+---+---+------+-------+------+------+------+-----+------+\n",
      "only showing top 20 rows\n",
      "\n"
     ]
    }
   ],
   "source": [
    "df_airports.show()"
   ]
  },
  {
   "cell_type": "code",
   "execution_count": 32,
   "metadata": {},
   "outputs": [],
   "source": [
    "df_airports = df_airports.withColumn(\"qa_dst\", when(df_airports[\"dst\"].rlike(\"E, A, S, O, Z, N, U\"), \"C\"))"
   ]
  },
  {
   "cell_type": "code",
   "execution_count": 33,
   "metadata": {},
   "outputs": [
    {
     "name": "stdout",
     "output_type": "stream",
     "text": [
      "+---+--------------------+---------+-----------+----+---+---+------+-------+------+------+------+-----+------+\n",
      "|faa|                name|      lat|        lon| alt| tz|dst|qa_faa|qa_name|qa_lat|qa_lon|qa_alt|qa_tz|qa_dst|\n",
      "+---+--------------------+---------+-----------+----+---+---+------+-------+------+------+------+-----+------+\n",
      "|04G|   Lansdowne Airport|41.130474|  -80.61958|1044| -5|  A|     F|   null|  null|  null|  null| null|  null|\n",
      "|06A|Moton Field Munic...| 32.46057|  -85.68003| 264| -5|  A|     F|   null|  null|  null|  null| null|  null|\n",
      "|06C| Schaumburg Regional| 41.98934|  -88.10124| 801| -6|  A|     F|   null|  null|  null|  null| null|  null|\n",
      "|06N|     Randall Airport| 41.43191|  -74.39156| 523| -5|  A|     F|   null|  null|  null|  null| null|  null|\n",
      "|09J|Jekyll Island Air...|31.074472|  -81.42778|  11| -4|  A|     F|   null|  null|  null|  null| null|  null|\n",
      "|0A9|Elizabethton Muni...|36.371223| -82.173416|1593| -4|  A|     F|   null|  null|  null|  null| null|  null|\n",
      "|0G6|Williams County A...|41.467304| -84.506775| 730| -5|  A|     F|   null|  null|  null|  null| null|  null|\n",
      "|0G7|Finger Lakes Regi...|42.883564| -76.781235| 492| -5|  A|     F|   null|  null|  null|  null| null|  null|\n",
      "|0P2|Shoestring Aviati...|39.794823| -76.647194|1000| -5|  U|     F|   null|  null|  null|  null| null|  null|\n",
      "|0S9|Jefferson County ...| 48.05381|-122.810646| 108| -8|  A|     F|   null|  null|  null|  null| null|  null|\n",
      "|0W3|Harford County Ai...|39.566837|   -76.2024| 409| -5|  A|     F|   null|  null|  null|  null| null|  null|\n",
      "|10C|  Galt Field Airport| 42.40289| -88.375114| 875| -6|  U|     F|   null|  null|  null|  null| null|  null|\n",
      "|17G|Port Bucyrus-Craw...|40.781555|  -82.97481|1003| -5|  A|     F|   null|  null|  null|  null| null|  null|\n",
      "|19A|Jackson County Ai...|34.175865|   -83.5616| 951| -4|  U|     F|   null|  null|  null|  null| null|  null|\n",
      "|1A3|Martin Campbell F...|35.015804|  -84.34683|1789| -4|  A|     F|   null|  null|  null|  null| null|  null|\n",
      "|1B9| Mansfield Municipal|42.000134|  -71.19677| 122| -5|  A|     F|   null|  null|  null|  null| null|  null|\n",
      "|1C9|Frazier Lake Airpark|54.013332| -124.76833| 152| -8|  A|     F|   null|  null|  null|  null| null|  null|\n",
      "|1CS|Clow Internationa...|41.695976| -88.129234| 670| -6|  U|     F|   null|  null|  null|  null| null|  null|\n",
      "|1G3|  Kent State Airport| 41.15139|  -81.41511|1134| -4|  A|     F|   null|  null|  null|  null| null|  null|\n",
      "|1OH|     Fortman Airport|40.555325|  -84.38662| 885| -5|  U|     F|   null|  null|  null|  null| null|  null|\n",
      "+---+--------------------+---------+-----------+----+---+---+------+-------+------+------+------+-----+------+\n",
      "only showing top 20 rows\n",
      "\n"
     ]
    }
   ],
   "source": [
    "df_airports.show()"
   ]
  },
  {
   "cell_type": "code",
   "execution_count": 34,
   "metadata": {},
   "outputs": [],
   "source": [
    "df_airports = df_airports.withColumn(\"qa_dst\", when(df_airports[\"dst\"].rlike(\"\\d\"), \"N\"))"
   ]
  },
  {
   "cell_type": "code",
   "execution_count": 35,
   "metadata": {},
   "outputs": [
    {
     "name": "stdout",
     "output_type": "stream",
     "text": [
      "+---+--------------------+---------+-----------+----+---+---+------+-------+------+------+------+-----+------+\n",
      "|faa|                name|      lat|        lon| alt| tz|dst|qa_faa|qa_name|qa_lat|qa_lon|qa_alt|qa_tz|qa_dst|\n",
      "+---+--------------------+---------+-----------+----+---+---+------+-------+------+------+------+-----+------+\n",
      "|04G|   Lansdowne Airport|41.130474|  -80.61958|1044| -5|  A|     F|   null|  null|  null|  null| null|  null|\n",
      "|06A|Moton Field Munic...| 32.46057|  -85.68003| 264| -5|  A|     F|   null|  null|  null|  null| null|  null|\n",
      "|06C| Schaumburg Regional| 41.98934|  -88.10124| 801| -6|  A|     F|   null|  null|  null|  null| null|  null|\n",
      "|06N|     Randall Airport| 41.43191|  -74.39156| 523| -5|  A|     F|   null|  null|  null|  null| null|  null|\n",
      "|09J|Jekyll Island Air...|31.074472|  -81.42778|  11| -4|  A|     F|   null|  null|  null|  null| null|  null|\n",
      "|0A9|Elizabethton Muni...|36.371223| -82.173416|1593| -4|  A|     F|   null|  null|  null|  null| null|  null|\n",
      "|0G6|Williams County A...|41.467304| -84.506775| 730| -5|  A|     F|   null|  null|  null|  null| null|  null|\n",
      "|0G7|Finger Lakes Regi...|42.883564| -76.781235| 492| -5|  A|     F|   null|  null|  null|  null| null|  null|\n",
      "|0P2|Shoestring Aviati...|39.794823| -76.647194|1000| -5|  U|     F|   null|  null|  null|  null| null|  null|\n",
      "|0S9|Jefferson County ...| 48.05381|-122.810646| 108| -8|  A|     F|   null|  null|  null|  null| null|  null|\n",
      "|0W3|Harford County Ai...|39.566837|   -76.2024| 409| -5|  A|     F|   null|  null|  null|  null| null|  null|\n",
      "|10C|  Galt Field Airport| 42.40289| -88.375114| 875| -6|  U|     F|   null|  null|  null|  null| null|  null|\n",
      "|17G|Port Bucyrus-Craw...|40.781555|  -82.97481|1003| -5|  A|     F|   null|  null|  null|  null| null|  null|\n",
      "|19A|Jackson County Ai...|34.175865|   -83.5616| 951| -4|  U|     F|   null|  null|  null|  null| null|  null|\n",
      "|1A3|Martin Campbell F...|35.015804|  -84.34683|1789| -4|  A|     F|   null|  null|  null|  null| null|  null|\n",
      "|1B9| Mansfield Municipal|42.000134|  -71.19677| 122| -5|  A|     F|   null|  null|  null|  null| null|  null|\n",
      "|1C9|Frazier Lake Airpark|54.013332| -124.76833| 152| -8|  A|     F|   null|  null|  null|  null| null|  null|\n",
      "|1CS|Clow Internationa...|41.695976| -88.129234| 670| -6|  U|     F|   null|  null|  null|  null| null|  null|\n",
      "|1G3|  Kent State Airport| 41.15139|  -81.41511|1134| -4|  A|     F|   null|  null|  null|  null| null|  null|\n",
      "|1OH|     Fortman Airport|40.555325|  -84.38662| 885| -5|  U|     F|   null|  null|  null|  null| null|  null|\n",
      "+---+--------------------+---------+-----------+----+---+---+------+-------+------+------+------+-----+------+\n",
      "only showing top 20 rows\n",
      "\n"
     ]
    }
   ],
   "source": [
    "df_airports.show()"
   ]
  },
  {
   "cell_type": "code",
   "execution_count": 36,
   "metadata": {},
   "outputs": [
    {
     "name": "stdout",
     "output_type": "stream",
     "text": [
      "+------+-----+\n",
      "|qa_dst|count|\n",
      "+------+-----+\n",
      "|  null| 1397|\n",
      "+------+-----+\n",
      "\n"
     ]
    }
   ],
   "source": [
    "df_airports.groupBy(\"qa_dst\").count().distinct().orderBy(\"qa_dst\", ascending=True).show()"
   ]
  },
  {
   "cell_type": "markdown",
   "metadata": {},
   "source": [
    "## Salvando arquivo"
   ]
  },
  {
   "cell_type": "code",
   "execution_count": 37,
   "metadata": {},
   "outputs": [],
   "source": [
    "df_airports_final = df_airports.drop('name', 'lat', 'lon', 'alt', 'tz', 'dst')"
   ]
  },
  {
   "cell_type": "code",
   "execution_count": 38,
   "metadata": {},
   "outputs": [
    {
     "name": "stdout",
     "output_type": "stream",
     "text": [
      "+---+------+-------+------+------+------+-----+------+\n",
      "|faa|qa_faa|qa_name|qa_lat|qa_lon|qa_alt|qa_tz|qa_dst|\n",
      "+---+------+-------+------+------+------+-----+------+\n",
      "|04G|     F|   null|  null|  null|  null| null|  null|\n",
      "|06A|     F|   null|  null|  null|  null| null|  null|\n",
      "|06C|     F|   null|  null|  null|  null| null|  null|\n",
      "|06N|     F|   null|  null|  null|  null| null|  null|\n",
      "|09J|     F|   null|  null|  null|  null| null|  null|\n",
      "|0A9|     F|   null|  null|  null|  null| null|  null|\n",
      "|0G6|     F|   null|  null|  null|  null| null|  null|\n",
      "|0G7|     F|   null|  null|  null|  null| null|  null|\n",
      "|0P2|     F|   null|  null|  null|  null| null|  null|\n",
      "|0S9|     F|   null|  null|  null|  null| null|  null|\n",
      "|0W3|     F|   null|  null|  null|  null| null|  null|\n",
      "|10C|     F|   null|  null|  null|  null| null|  null|\n",
      "|17G|     F|   null|  null|  null|  null| null|  null|\n",
      "|19A|     F|   null|  null|  null|  null| null|  null|\n",
      "|1A3|     F|   null|  null|  null|  null| null|  null|\n",
      "|1B9|     F|   null|  null|  null|  null| null|  null|\n",
      "|1C9|     F|   null|  null|  null|  null| null|  null|\n",
      "|1CS|     F|   null|  null|  null|  null| null|  null|\n",
      "|1G3|     F|   null|  null|  null|  null| null|  null|\n",
      "|1OH|     F|   null|  null|  null|  null| null|  null|\n",
      "+---+------+-------+------+------+------+-----+------+\n",
      "only showing top 20 rows\n",
      "\n"
     ]
    }
   ],
   "source": [
    "df_airports_final.show()"
   ]
  },
  {
   "cell_type": "code",
   "execution_count": 39,
   "metadata": {},
   "outputs": [],
   "source": [
    "(df_airports_final\n",
    "            .repartition(1) # coalesce\n",
    "            .write.format(\"parquet\")\n",
    "            .mode('overwrite')\n",
    "            .option(\"header\", \"true\")\n",
    "            .save(\"../output/airports_qa.parquet\"))"
   ]
  },
  {
   "cell_type": "markdown",
   "metadata": {},
   "source": [
    "## Planes Dataset - Perguntas"
   ]
  },
  {
   "cell_type": "markdown",
   "metadata": {},
   "source": [
    "#### Pergunta 1"
   ]
  },
  {
   "cell_type": "code",
   "execution_count": 40,
   "metadata": {},
   "outputs": [
    {
     "name": "stdout",
     "output_type": "stream",
     "text": [
      "+----------+-----+\n",
      "|qa_tailnum|count|\n",
      "+----------+-----+\n",
      "|      null| 2330|\n",
      "|         F|  298|\n",
      "+----------+-----+\n",
      "\n"
     ]
    }
   ],
   "source": [
    "df_planes = (df_planes.withColumn('qa_tailnum',\n",
    "                       when((col('tailnum').isNull()), \"M\")\n",
    "                      .when((length(col('tailnum')) != 5) & (length(col('tailnum')) != 6), \"S\")\n",
    "                      .when((col('tailnum').rlike(\"^N([0-9]{1,4})([A-Z]{1,2}$)\") == False), \"F\")\n",
    "                      .when((col('tailnum').rlike(\"^N\") == False), \"FN\")\n",
    "                      .when((col('tailnum').rlike(\"^[IO0]\") == True), \"FE\"))\n",
    "            )\n",
    "\n",
    "df_planes.groupBy(\"qa_tailnum\").count().distinct().orderBy(\"qa_tailnum\", ascending=True).show()"
   ]
  },
  {
   "cell_type": "code",
   "execution_count": 41,
   "metadata": {},
   "outputs": [
    {
     "data": {
      "text/html": [
       "<div>\n",
       "<style scoped>\n",
       "    .dataframe tbody tr th:only-of-type {\n",
       "        vertical-align: middle;\n",
       "    }\n",
       "\n",
       "    .dataframe tbody tr th {\n",
       "        vertical-align: top;\n",
       "    }\n",
       "\n",
       "    .dataframe thead th {\n",
       "        text-align: right;\n",
       "    }\n",
       "</style>\n",
       "<table border=\"1\" class=\"dataframe\">\n",
       "  <thead>\n",
       "    <tr style=\"text-align: right;\">\n",
       "      <th></th>\n",
       "      <th>tailnum</th>\n",
       "      <th>year</th>\n",
       "      <th>type</th>\n",
       "      <th>manufacturer</th>\n",
       "      <th>model</th>\n",
       "      <th>engines</th>\n",
       "      <th>seats</th>\n",
       "      <th>speed</th>\n",
       "      <th>engine</th>\n",
       "      <th>qa_tailnum</th>\n",
       "    </tr>\n",
       "  </thead>\n",
       "  <tbody>\n",
       "    <tr>\n",
       "      <th>0</th>\n",
       "      <td>N11206</td>\n",
       "      <td>2000.0</td>\n",
       "      <td>Fixed wing multi engine</td>\n",
       "      <td>BOEING</td>\n",
       "      <td>737-824</td>\n",
       "      <td>2</td>\n",
       "      <td>149</td>\n",
       "      <td>NaN</td>\n",
       "      <td>Turbo-fan</td>\n",
       "      <td>F</td>\n",
       "    </tr>\n",
       "    <tr>\n",
       "      <th>1</th>\n",
       "      <td>N12114</td>\n",
       "      <td>1995.0</td>\n",
       "      <td>Fixed wing multi engine</td>\n",
       "      <td>BOEING</td>\n",
       "      <td>757-224</td>\n",
       "      <td>2</td>\n",
       "      <td>178</td>\n",
       "      <td>NaN</td>\n",
       "      <td>Turbo-jet</td>\n",
       "      <td>F</td>\n",
       "    </tr>\n",
       "    <tr>\n",
       "      <th>2</th>\n",
       "      <td>N12216</td>\n",
       "      <td>1998.0</td>\n",
       "      <td>Fixed wing multi engine</td>\n",
       "      <td>BOEING</td>\n",
       "      <td>737-824</td>\n",
       "      <td>2</td>\n",
       "      <td>149</td>\n",
       "      <td>NaN</td>\n",
       "      <td>Turbo-fan</td>\n",
       "      <td>F</td>\n",
       "    </tr>\n",
       "    <tr>\n",
       "      <th>3</th>\n",
       "      <td>N12218</td>\n",
       "      <td>1998.0</td>\n",
       "      <td>Fixed wing multi engine</td>\n",
       "      <td>BOEING</td>\n",
       "      <td>737-824</td>\n",
       "      <td>2</td>\n",
       "      <td>149</td>\n",
       "      <td>NaN</td>\n",
       "      <td>Turbo-fan</td>\n",
       "      <td>F</td>\n",
       "    </tr>\n",
       "    <tr>\n",
       "      <th>4</th>\n",
       "      <td>N12221</td>\n",
       "      <td>1998.0</td>\n",
       "      <td>Fixed wing multi engine</td>\n",
       "      <td>BOEING</td>\n",
       "      <td>737-824</td>\n",
       "      <td>2</td>\n",
       "      <td>149</td>\n",
       "      <td>NaN</td>\n",
       "      <td>Turbo-fan</td>\n",
       "      <td>F</td>\n",
       "    </tr>\n",
       "    <tr>\n",
       "      <th>...</th>\n",
       "      <td>...</td>\n",
       "      <td>...</td>\n",
       "      <td>...</td>\n",
       "      <td>...</td>\n",
       "      <td>...</td>\n",
       "      <td>...</td>\n",
       "      <td>...</td>\n",
       "      <td>...</td>\n",
       "      <td>...</td>\n",
       "      <td>...</td>\n",
       "    </tr>\n",
       "    <tr>\n",
       "      <th>293</th>\n",
       "      <td>N87507</td>\n",
       "      <td>2008.0</td>\n",
       "      <td>Fixed wing multi engine</td>\n",
       "      <td>BOEING</td>\n",
       "      <td>737-824</td>\n",
       "      <td>2</td>\n",
       "      <td>149</td>\n",
       "      <td>NaN</td>\n",
       "      <td>Turbo-fan</td>\n",
       "      <td>F</td>\n",
       "    </tr>\n",
       "    <tr>\n",
       "      <th>294</th>\n",
       "      <td>N87512</td>\n",
       "      <td>2008.0</td>\n",
       "      <td>Fixed wing multi engine</td>\n",
       "      <td>BOEING</td>\n",
       "      <td>737-824</td>\n",
       "      <td>2</td>\n",
       "      <td>149</td>\n",
       "      <td>NaN</td>\n",
       "      <td>Turbo-fan</td>\n",
       "      <td>F</td>\n",
       "    </tr>\n",
       "    <tr>\n",
       "      <th>295</th>\n",
       "      <td>N87513</td>\n",
       "      <td>2008.0</td>\n",
       "      <td>Fixed wing multi engine</td>\n",
       "      <td>BOEING</td>\n",
       "      <td>737-824</td>\n",
       "      <td>2</td>\n",
       "      <td>149</td>\n",
       "      <td>NaN</td>\n",
       "      <td>Turbo-fan</td>\n",
       "      <td>F</td>\n",
       "    </tr>\n",
       "    <tr>\n",
       "      <th>296</th>\n",
       "      <td>N87527</td>\n",
       "      <td>2010.0</td>\n",
       "      <td>Fixed wing multi engine</td>\n",
       "      <td>BOEING</td>\n",
       "      <td>737-824</td>\n",
       "      <td>2</td>\n",
       "      <td>149</td>\n",
       "      <td>NaN</td>\n",
       "      <td>Turbo-fan</td>\n",
       "      <td>F</td>\n",
       "    </tr>\n",
       "    <tr>\n",
       "      <th>297</th>\n",
       "      <td>N87531</td>\n",
       "      <td>2011.0</td>\n",
       "      <td>Fixed wing multi engine</td>\n",
       "      <td>BOEING</td>\n",
       "      <td>737-824</td>\n",
       "      <td>2</td>\n",
       "      <td>149</td>\n",
       "      <td>NaN</td>\n",
       "      <td>Turbo-fan</td>\n",
       "      <td>F</td>\n",
       "    </tr>\n",
       "  </tbody>\n",
       "</table>\n",
       "<p>298 rows × 10 columns</p>\n",
       "</div>"
      ],
      "text/plain": [
       "    tailnum    year                     type manufacturer    model  engines  \\\n",
       "0    N11206  2000.0  Fixed wing multi engine       BOEING  737-824        2   \n",
       "1    N12114  1995.0  Fixed wing multi engine       BOEING  757-224        2   \n",
       "2    N12216  1998.0  Fixed wing multi engine       BOEING  737-824        2   \n",
       "3    N12218  1998.0  Fixed wing multi engine       BOEING  737-824        2   \n",
       "4    N12221  1998.0  Fixed wing multi engine       BOEING  737-824        2   \n",
       "..      ...     ...                      ...          ...      ...      ...   \n",
       "293  N87507  2008.0  Fixed wing multi engine       BOEING  737-824        2   \n",
       "294  N87512  2008.0  Fixed wing multi engine       BOEING  737-824        2   \n",
       "295  N87513  2008.0  Fixed wing multi engine       BOEING  737-824        2   \n",
       "296  N87527  2010.0  Fixed wing multi engine       BOEING  737-824        2   \n",
       "297  N87531  2011.0  Fixed wing multi engine       BOEING  737-824        2   \n",
       "\n",
       "     seats  speed     engine qa_tailnum  \n",
       "0      149    NaN  Turbo-fan          F  \n",
       "1      178    NaN  Turbo-jet          F  \n",
       "2      149    NaN  Turbo-fan          F  \n",
       "3      149    NaN  Turbo-fan          F  \n",
       "4      149    NaN  Turbo-fan          F  \n",
       "..     ...    ...        ...        ...  \n",
       "293    149    NaN  Turbo-fan          F  \n",
       "294    149    NaN  Turbo-fan          F  \n",
       "295    149    NaN  Turbo-fan          F  \n",
       "296    149    NaN  Turbo-fan          F  \n",
       "297    149    NaN  Turbo-fan          F  \n",
       "\n",
       "[298 rows x 10 columns]"
      ]
     },
     "execution_count": 41,
     "metadata": {},
     "output_type": "execute_result"
    }
   ],
   "source": [
    "df_planes.filter(col('qa_tailnum') == 'F').toPandas()"
   ]
  },
  {
   "cell_type": "markdown",
   "metadata": {},
   "source": [
    "#### Pergunta 2"
   ]
  },
  {
   "cell_type": "code",
   "execution_count": 42,
   "metadata": {},
   "outputs": [
    {
     "name": "stdout",
     "output_type": "stream",
     "text": [
      "+-------+-----+\n",
      "|qa_year|count|\n",
      "+-------+-----+\n",
      "|   null| 2567|\n",
      "|      I|    1|\n",
      "|      M|   60|\n",
      "+-------+-----+\n",
      "\n"
     ]
    }
   ],
   "source": [
    "df_planes = df_planes.withColumn('qa_year', \n",
    "                      when((col('year').isNull()), 'M')\n",
    "                     .when(col('year') < 1950, 'I'))\n",
    "\n",
    "df_planes.groupBy(\"qa_year\").count().distinct().orderBy(\"qa_year\", ascending=True).show()"
   ]
  },
  {
   "cell_type": "markdown",
   "metadata": {},
   "source": [
    "#### Pergunta 3"
   ]
  },
  {
   "cell_type": "code",
   "execution_count": 43,
   "metadata": {},
   "outputs": [
    {
     "name": "stdout",
     "output_type": "stream",
     "text": [
      "+-------+-----+\n",
      "|qa_type|count|\n",
      "+-------+-----+\n",
      "|   null| 2628|\n",
      "+-------+-----+\n",
      "\n"
     ]
    }
   ],
   "source": [
    "categorys_list = [\"Fixed wing multi engine\", \"Fixed wing single engine\", \"Rotorcraft\"]\n",
    "\n",
    "df_planes = df_planes.withColumn('qa_type',\n",
    "                      when((col('type').isNull()), 'M')\n",
    "                     .when(~col('type').isin(categorys_list), 'C'))\n",
    "\n",
    "df_planes.groupBy(\"qa_type\").count().distinct().orderBy(\"qa_type\", ascending=True).show()"
   ]
  },
  {
   "cell_type": "markdown",
   "metadata": {},
   "source": [
    "#### Pergunta 4"
   ]
  },
  {
   "cell_type": "code",
   "execution_count": 44,
   "metadata": {},
   "outputs": [
    {
     "name": "stdout",
     "output_type": "stream",
     "text": [
      "+---------------+-----+\n",
      "|qa_manufacturer|count|\n",
      "+---------------+-----+\n",
      "|           null| 2007|\n",
      "|              C|  621|\n",
      "+---------------+-----+\n",
      "\n"
     ]
    }
   ],
   "source": [
    "manufacturer_list = [\"AIRBUS\", \"BOEING\",\"BOMBARDIER\", \"CESSNA\",\"EMBRAER\",\"SIKORSKY\", \"CANADAIR\",\n",
    "                    \"PIPER\", \"MCDONNELL DOUGLAS\", \"CIRRUS\", \"BELL\", \"KILDALL GARY\",\"LAMBERT RICHARD\", \"BARKER JACK\",\n",
    "                    \"ROBINSON HELICOPTER\", \"GULFSTREAM\", \"MARZ BARRY\"]\n",
    "\n",
    "df_planes = df_planes.withColumn(\"qa_manufacturer\",\n",
    "                      when(col('manufacturer').isNull(), \"M\")\n",
    "                     .when(~col('manufacturer').isin(manufacturer_list), \"C\"))\n",
    "\n",
    "df_planes.groupBy(\"qa_manufacturer\").count().distinct().orderBy(\"qa_manufacturer\", ascending=True).show()"
   ]
  },
  {
   "cell_type": "markdown",
   "metadata": {},
   "source": [
    "#### Pergunta 5"
   ]
  },
  {
   "cell_type": "code",
   "execution_count": 45,
   "metadata": {},
   "outputs": [
    {
     "name": "stdout",
     "output_type": "stream",
     "text": [
      "+--------+-----+\n",
      "|qa_model|count|\n",
      "+--------+-----+\n",
      "|    null| 2613|\n",
      "|       F|   15|\n",
      "+--------+-----+\n",
      "\n"
     ]
    }
   ],
   "source": [
    "df_planes = df_planes.withColumn('qa_model',\n",
    "                    when(col('model').isNull(), \"M\")\n",
    "                   .when((col('manufacturer') == \"AIRBUS\") & (~col('model').rlike(\"^A\")), \"F\")\n",
    "                   .when((col('manufacturer') == \"BOEING\") & (~col('model').rlike(\"^7\")), \"F\")\n",
    "                   .when((col('manufacturer') == \"BOMBARDIER\") | (col('manufacturer') == \"CANADAIR\")\n",
    "                         & (~col('model').rlike(\"^CL\")), \"F\")\n",
    "                   .when((col('manufacturer') == \"MCDONNELL DOUGLAS\") & (~col('model').rlike('^(MD|DC)')), \"F\"))\n",
    "\n",
    "df_planes.groupBy(\"qa_model\").count().distinct().orderBy(\"qa_model\", ascending=True).show()"
   ]
  },
  {
   "cell_type": "markdown",
   "metadata": {},
   "source": [
    "#### Pergunta 6"
   ]
  },
  {
   "cell_type": "code",
   "execution_count": 46,
   "metadata": {},
   "outputs": [
    {
     "name": "stdout",
     "output_type": "stream",
     "text": [
      "+----------+-----+\n",
      "|qa_engines|count|\n",
      "+----------+-----+\n",
      "|      null| 2628|\n",
      "+----------+-----+\n",
      "\n"
     ]
    }
   ],
   "source": [
    "df_planes = df_planes.withColumn(\"qa_engines\",\n",
    "                  when(col(\"engines\").isNull(), \"M\")\n",
    "                  .when(~(col(\"engines\").between(1,4)), \"I\")\n",
    "                  .when(col('engines').rlike(\"^[a-zA-Z_]*$\") == True, \"A\")  \n",
    "                  )\n",
    "\n",
    "df_planes.groupBy(\"qa_engines\").count().distinct().orderBy(\"qa_engines\", ascending=True).show()"
   ]
  },
  {
   "cell_type": "markdown",
   "metadata": {},
   "source": [
    "#### Pergunta 7"
   ]
  },
  {
   "cell_type": "code",
   "execution_count": 47,
   "metadata": {},
   "outputs": [
    {
     "name": "stdout",
     "output_type": "stream",
     "text": [
      "+--------+-----+\n",
      "|qa_seats|count|\n",
      "+--------+-----+\n",
      "|    null| 2628|\n",
      "+--------+-----+\n",
      "\n"
     ]
    }
   ],
   "source": [
    "df_planes = df_planes.withColumn(\"qa_seats\",\n",
    "                  when(col(\"seats\").isNull(), \"M\")\n",
    "                  .when((col(\"seats\") > 500) | (col('seats') < 2), \"I\")\n",
    "                  .when(col(\"seats\").rlike(\"/w\") == True, \"A\")  \n",
    "                  )\n",
    "\n",
    "df_planes.groupBy(\"qa_seats\").count().distinct().orderBy(\"qa_seats\", ascending=True).show()"
   ]
  },
  {
   "cell_type": "markdown",
   "metadata": {},
   "source": [
    "#### Pergunta 8"
   ]
  },
  {
   "cell_type": "code",
   "execution_count": 48,
   "metadata": {},
   "outputs": [
    {
     "name": "stdout",
     "output_type": "stream",
     "text": [
      "+--------+-----+\n",
      "|qa_speed|count|\n",
      "+--------+-----+\n",
      "|    null|    6|\n",
      "|       M| 2622|\n",
      "+--------+-----+\n",
      "\n"
     ]
    }
   ],
   "source": [
    "df_planes = df_planes.withColumn(\"qa_speed\", \n",
    "                    when(col(\"speed\").isNull(), \"M\")\n",
    "                   .when((col(\"speed\") > 150) | (col(\"speed\") < 50), \"I\")\n",
    "                   .when(~col(\"speed\").rlike(\"\\w\"), \"A\"))\n",
    "\n",
    "df_planes.groupBy(\"qa_speed\").count().distinct().orderBy(\"qa_speed\", ascending=True).show()"
   ]
  },
  {
   "cell_type": "code",
   "execution_count": 49,
   "metadata": {},
   "outputs": [
    {
     "data": {
      "text/html": [
       "<div>\n",
       "<style scoped>\n",
       "    .dataframe tbody tr th:only-of-type {\n",
       "        vertical-align: middle;\n",
       "    }\n",
       "\n",
       "    .dataframe tbody tr th {\n",
       "        vertical-align: top;\n",
       "    }\n",
       "\n",
       "    .dataframe thead th {\n",
       "        text-align: right;\n",
       "    }\n",
       "</style>\n",
       "<table border=\"1\" class=\"dataframe\">\n",
       "  <thead>\n",
       "    <tr style=\"text-align: right;\">\n",
       "      <th></th>\n",
       "      <th>tailnum</th>\n",
       "      <th>year</th>\n",
       "      <th>type</th>\n",
       "      <th>manufacturer</th>\n",
       "      <th>model</th>\n",
       "      <th>engines</th>\n",
       "      <th>seats</th>\n",
       "      <th>speed</th>\n",
       "      <th>engine</th>\n",
       "      <th>qa_tailnum</th>\n",
       "      <th>qa_year</th>\n",
       "      <th>qa_type</th>\n",
       "      <th>qa_manufacturer</th>\n",
       "      <th>qa_model</th>\n",
       "      <th>qa_engines</th>\n",
       "      <th>qa_seats</th>\n",
       "      <th>qa_speed</th>\n",
       "    </tr>\n",
       "  </thead>\n",
       "  <tbody>\n",
       "  </tbody>\n",
       "</table>\n",
       "</div>"
      ],
      "text/plain": [
       "Empty DataFrame\n",
       "Columns: [tailnum, year, type, manufacturer, model, engines, seats, speed, engine, qa_tailnum, qa_year, qa_type, qa_manufacturer, qa_model, qa_engines, qa_seats, qa_speed]\n",
       "Index: []"
      ]
     },
     "execution_count": 49,
     "metadata": {},
     "output_type": "execute_result"
    }
   ],
   "source": [
    "df_planes.filter(col('qa_speed') == 'A').toPandas()"
   ]
  },
  {
   "cell_type": "markdown",
   "metadata": {},
   "source": [
    "#### Pergunta 9"
   ]
  },
  {
   "cell_type": "code",
   "execution_count": 50,
   "metadata": {},
   "outputs": [
    {
     "name": "stdout",
     "output_type": "stream",
     "text": [
      "+---------+-----+\n",
      "|qa_engine|count|\n",
      "+---------+-----+\n",
      "|     null| 2618|\n",
      "|        C|   10|\n",
      "+---------+-----+\n",
      "\n"
     ]
    }
   ],
   "source": [
    "category_list = [\"Turbo-fan\", \"Turbo-jet\", \"Turbo-prop\", \"Turbo-shaft\", \"4 Cycle\"]\n",
    "\n",
    "df_planes = df_planes.withColumn(\"qa_engine\", \n",
    "                     when(col(\"engine\").isNull(), \"M\")\n",
    "                    .when(~col('engine').isin(category_list), \"C\"))\n",
    "\n",
    "df_planes.groupBy(\"qa_engine\").count().distinct().orderBy(\"qa_engine\", ascending=True).show()"
   ]
  },
  {
   "cell_type": "markdown",
   "metadata": {},
   "source": [
    "## Salvando arquivo"
   ]
  },
  {
   "cell_type": "code",
   "execution_count": 51,
   "metadata": {},
   "outputs": [
    {
     "data": {
      "text/html": [
       "<div>\n",
       "<style scoped>\n",
       "    .dataframe tbody tr th:only-of-type {\n",
       "        vertical-align: middle;\n",
       "    }\n",
       "\n",
       "    .dataframe tbody tr th {\n",
       "        vertical-align: top;\n",
       "    }\n",
       "\n",
       "    .dataframe thead th {\n",
       "        text-align: right;\n",
       "    }\n",
       "</style>\n",
       "<table border=\"1\" class=\"dataframe\">\n",
       "  <thead>\n",
       "    <tr style=\"text-align: right;\">\n",
       "      <th></th>\n",
       "      <th>tailnum</th>\n",
       "      <th>year</th>\n",
       "      <th>type</th>\n",
       "      <th>manufacturer</th>\n",
       "      <th>model</th>\n",
       "      <th>engines</th>\n",
       "      <th>seats</th>\n",
       "      <th>speed</th>\n",
       "      <th>engine</th>\n",
       "      <th>qa_tailnum</th>\n",
       "      <th>qa_year</th>\n",
       "      <th>qa_type</th>\n",
       "      <th>qa_manufacturer</th>\n",
       "      <th>qa_model</th>\n",
       "      <th>qa_engines</th>\n",
       "      <th>qa_seats</th>\n",
       "      <th>qa_speed</th>\n",
       "      <th>qa_engine</th>\n",
       "    </tr>\n",
       "  </thead>\n",
       "  <tbody>\n",
       "    <tr>\n",
       "      <th>0</th>\n",
       "      <td>N102UW</td>\n",
       "      <td>1998.0</td>\n",
       "      <td>Fixed wing multi engine</td>\n",
       "      <td>AIRBUS INDUSTRIE</td>\n",
       "      <td>A320-214</td>\n",
       "      <td>2</td>\n",
       "      <td>182</td>\n",
       "      <td>NaN</td>\n",
       "      <td>Turbo-fan</td>\n",
       "      <td>None</td>\n",
       "      <td>None</td>\n",
       "      <td>None</td>\n",
       "      <td>C</td>\n",
       "      <td>None</td>\n",
       "      <td>None</td>\n",
       "      <td>None</td>\n",
       "      <td>M</td>\n",
       "      <td>None</td>\n",
       "    </tr>\n",
       "    <tr>\n",
       "      <th>1</th>\n",
       "      <td>N103US</td>\n",
       "      <td>1999.0</td>\n",
       "      <td>Fixed wing multi engine</td>\n",
       "      <td>AIRBUS INDUSTRIE</td>\n",
       "      <td>A320-214</td>\n",
       "      <td>2</td>\n",
       "      <td>182</td>\n",
       "      <td>NaN</td>\n",
       "      <td>Turbo-fan</td>\n",
       "      <td>None</td>\n",
       "      <td>None</td>\n",
       "      <td>None</td>\n",
       "      <td>C</td>\n",
       "      <td>None</td>\n",
       "      <td>None</td>\n",
       "      <td>None</td>\n",
       "      <td>M</td>\n",
       "      <td>None</td>\n",
       "    </tr>\n",
       "    <tr>\n",
       "      <th>2</th>\n",
       "      <td>N104UW</td>\n",
       "      <td>1999.0</td>\n",
       "      <td>Fixed wing multi engine</td>\n",
       "      <td>AIRBUS INDUSTRIE</td>\n",
       "      <td>A320-214</td>\n",
       "      <td>2</td>\n",
       "      <td>182</td>\n",
       "      <td>NaN</td>\n",
       "      <td>Turbo-fan</td>\n",
       "      <td>None</td>\n",
       "      <td>None</td>\n",
       "      <td>None</td>\n",
       "      <td>C</td>\n",
       "      <td>None</td>\n",
       "      <td>None</td>\n",
       "      <td>None</td>\n",
       "      <td>M</td>\n",
       "      <td>None</td>\n",
       "    </tr>\n",
       "    <tr>\n",
       "      <th>3</th>\n",
       "      <td>N105UW</td>\n",
       "      <td>1999.0</td>\n",
       "      <td>Fixed wing multi engine</td>\n",
       "      <td>AIRBUS INDUSTRIE</td>\n",
       "      <td>A320-214</td>\n",
       "      <td>2</td>\n",
       "      <td>182</td>\n",
       "      <td>NaN</td>\n",
       "      <td>Turbo-fan</td>\n",
       "      <td>None</td>\n",
       "      <td>None</td>\n",
       "      <td>None</td>\n",
       "      <td>C</td>\n",
       "      <td>None</td>\n",
       "      <td>None</td>\n",
       "      <td>None</td>\n",
       "      <td>M</td>\n",
       "      <td>None</td>\n",
       "    </tr>\n",
       "    <tr>\n",
       "      <th>4</th>\n",
       "      <td>N107US</td>\n",
       "      <td>1999.0</td>\n",
       "      <td>Fixed wing multi engine</td>\n",
       "      <td>AIRBUS INDUSTRIE</td>\n",
       "      <td>A320-214</td>\n",
       "      <td>2</td>\n",
       "      <td>182</td>\n",
       "      <td>NaN</td>\n",
       "      <td>Turbo-fan</td>\n",
       "      <td>None</td>\n",
       "      <td>None</td>\n",
       "      <td>None</td>\n",
       "      <td>C</td>\n",
       "      <td>None</td>\n",
       "      <td>None</td>\n",
       "      <td>None</td>\n",
       "      <td>M</td>\n",
       "      <td>None</td>\n",
       "    </tr>\n",
       "    <tr>\n",
       "      <th>...</th>\n",
       "      <td>...</td>\n",
       "      <td>...</td>\n",
       "      <td>...</td>\n",
       "      <td>...</td>\n",
       "      <td>...</td>\n",
       "      <td>...</td>\n",
       "      <td>...</td>\n",
       "      <td>...</td>\n",
       "      <td>...</td>\n",
       "      <td>...</td>\n",
       "      <td>...</td>\n",
       "      <td>...</td>\n",
       "      <td>...</td>\n",
       "      <td>...</td>\n",
       "      <td>...</td>\n",
       "      <td>...</td>\n",
       "      <td>...</td>\n",
       "      <td>...</td>\n",
       "    </tr>\n",
       "    <tr>\n",
       "      <th>2623</th>\n",
       "      <td>N983SW</td>\n",
       "      <td>2004.0</td>\n",
       "      <td>Fixed wing multi engine</td>\n",
       "      <td>BOMBARDIER INC</td>\n",
       "      <td>CL-600-2B19</td>\n",
       "      <td>2</td>\n",
       "      <td>55</td>\n",
       "      <td>NaN</td>\n",
       "      <td>Turbo-fan</td>\n",
       "      <td>None</td>\n",
       "      <td>None</td>\n",
       "      <td>None</td>\n",
       "      <td>C</td>\n",
       "      <td>None</td>\n",
       "      <td>None</td>\n",
       "      <td>None</td>\n",
       "      <td>M</td>\n",
       "      <td>None</td>\n",
       "    </tr>\n",
       "    <tr>\n",
       "      <th>2624</th>\n",
       "      <td>N984CA</td>\n",
       "      <td>1997.0</td>\n",
       "      <td>Fixed wing multi engine</td>\n",
       "      <td>CANADAIR</td>\n",
       "      <td>CL-600-2B19</td>\n",
       "      <td>2</td>\n",
       "      <td>55</td>\n",
       "      <td>NaN</td>\n",
       "      <td>Turbo-fan</td>\n",
       "      <td>None</td>\n",
       "      <td>None</td>\n",
       "      <td>None</td>\n",
       "      <td>None</td>\n",
       "      <td>None</td>\n",
       "      <td>None</td>\n",
       "      <td>None</td>\n",
       "      <td>M</td>\n",
       "      <td>None</td>\n",
       "    </tr>\n",
       "    <tr>\n",
       "      <th>2625</th>\n",
       "      <td>N986CA</td>\n",
       "      <td>NaN</td>\n",
       "      <td>Fixed wing multi engine</td>\n",
       "      <td>CANADAIR</td>\n",
       "      <td>CL-600-2B19</td>\n",
       "      <td>2</td>\n",
       "      <td>55</td>\n",
       "      <td>NaN</td>\n",
       "      <td>Turbo-fan</td>\n",
       "      <td>None</td>\n",
       "      <td>M</td>\n",
       "      <td>None</td>\n",
       "      <td>None</td>\n",
       "      <td>None</td>\n",
       "      <td>None</td>\n",
       "      <td>None</td>\n",
       "      <td>M</td>\n",
       "      <td>None</td>\n",
       "    </tr>\n",
       "    <tr>\n",
       "      <th>2626</th>\n",
       "      <td>N986SW</td>\n",
       "      <td>2004.0</td>\n",
       "      <td>Fixed wing multi engine</td>\n",
       "      <td>BOMBARDIER INC</td>\n",
       "      <td>CL-600-2B19</td>\n",
       "      <td>2</td>\n",
       "      <td>55</td>\n",
       "      <td>NaN</td>\n",
       "      <td>Turbo-fan</td>\n",
       "      <td>None</td>\n",
       "      <td>None</td>\n",
       "      <td>None</td>\n",
       "      <td>C</td>\n",
       "      <td>None</td>\n",
       "      <td>None</td>\n",
       "      <td>None</td>\n",
       "      <td>M</td>\n",
       "      <td>None</td>\n",
       "    </tr>\n",
       "    <tr>\n",
       "      <th>2627</th>\n",
       "      <td>N988CA</td>\n",
       "      <td>1997.0</td>\n",
       "      <td>Fixed wing multi engine</td>\n",
       "      <td>CANADAIR</td>\n",
       "      <td>CL-600-2B19</td>\n",
       "      <td>2</td>\n",
       "      <td>55</td>\n",
       "      <td>NaN</td>\n",
       "      <td>Turbo-fan</td>\n",
       "      <td>None</td>\n",
       "      <td>None</td>\n",
       "      <td>None</td>\n",
       "      <td>None</td>\n",
       "      <td>None</td>\n",
       "      <td>None</td>\n",
       "      <td>None</td>\n",
       "      <td>M</td>\n",
       "      <td>None</td>\n",
       "    </tr>\n",
       "  </tbody>\n",
       "</table>\n",
       "<p>2628 rows × 18 columns</p>\n",
       "</div>"
      ],
      "text/plain": [
       "     tailnum    year                     type      manufacturer        model  \\\n",
       "0     N102UW  1998.0  Fixed wing multi engine  AIRBUS INDUSTRIE     A320-214   \n",
       "1     N103US  1999.0  Fixed wing multi engine  AIRBUS INDUSTRIE     A320-214   \n",
       "2     N104UW  1999.0  Fixed wing multi engine  AIRBUS INDUSTRIE     A320-214   \n",
       "3     N105UW  1999.0  Fixed wing multi engine  AIRBUS INDUSTRIE     A320-214   \n",
       "4     N107US  1999.0  Fixed wing multi engine  AIRBUS INDUSTRIE     A320-214   \n",
       "...      ...     ...                      ...               ...          ...   \n",
       "2623  N983SW  2004.0  Fixed wing multi engine    BOMBARDIER INC  CL-600-2B19   \n",
       "2624  N984CA  1997.0  Fixed wing multi engine          CANADAIR  CL-600-2B19   \n",
       "2625  N986CA     NaN  Fixed wing multi engine          CANADAIR  CL-600-2B19   \n",
       "2626  N986SW  2004.0  Fixed wing multi engine    BOMBARDIER INC  CL-600-2B19   \n",
       "2627  N988CA  1997.0  Fixed wing multi engine          CANADAIR  CL-600-2B19   \n",
       "\n",
       "      engines  seats  speed     engine qa_tailnum qa_year qa_type  \\\n",
       "0           2    182    NaN  Turbo-fan       None    None    None   \n",
       "1           2    182    NaN  Turbo-fan       None    None    None   \n",
       "2           2    182    NaN  Turbo-fan       None    None    None   \n",
       "3           2    182    NaN  Turbo-fan       None    None    None   \n",
       "4           2    182    NaN  Turbo-fan       None    None    None   \n",
       "...       ...    ...    ...        ...        ...     ...     ...   \n",
       "2623        2     55    NaN  Turbo-fan       None    None    None   \n",
       "2624        2     55    NaN  Turbo-fan       None    None    None   \n",
       "2625        2     55    NaN  Turbo-fan       None       M    None   \n",
       "2626        2     55    NaN  Turbo-fan       None    None    None   \n",
       "2627        2     55    NaN  Turbo-fan       None    None    None   \n",
       "\n",
       "     qa_manufacturer qa_model qa_engines qa_seats qa_speed qa_engine  \n",
       "0                  C     None       None     None        M      None  \n",
       "1                  C     None       None     None        M      None  \n",
       "2                  C     None       None     None        M      None  \n",
       "3                  C     None       None     None        M      None  \n",
       "4                  C     None       None     None        M      None  \n",
       "...              ...      ...        ...      ...      ...       ...  \n",
       "2623               C     None       None     None        M      None  \n",
       "2624            None     None       None     None        M      None  \n",
       "2625            None     None       None     None        M      None  \n",
       "2626               C     None       None     None        M      None  \n",
       "2627            None     None       None     None        M      None  \n",
       "\n",
       "[2628 rows x 18 columns]"
      ]
     },
     "execution_count": 51,
     "metadata": {},
     "output_type": "execute_result"
    }
   ],
   "source": [
    "df_planes.toPandas()"
   ]
  },
  {
   "cell_type": "code",
   "execution_count": 52,
   "metadata": {},
   "outputs": [],
   "source": [
    "df_planes_final = df_planes.drop('year', 'type', 'manufacturer', 'model', 'engines', 'seats', 'speed', 'engine')"
   ]
  },
  {
   "cell_type": "code",
   "execution_count": 53,
   "metadata": {},
   "outputs": [
    {
     "name": "stdout",
     "output_type": "stream",
     "text": [
      "+-------+----------+-------+-------+---------------+--------+----------+--------+--------+---------+\n",
      "|tailnum|qa_tailnum|qa_year|qa_type|qa_manufacturer|qa_model|qa_engines|qa_seats|qa_speed|qa_engine|\n",
      "+-------+----------+-------+-------+---------------+--------+----------+--------+--------+---------+\n",
      "| N102UW|      null|   null|   null|              C|    null|      null|    null|       M|     null|\n",
      "| N103US|      null|   null|   null|              C|    null|      null|    null|       M|     null|\n",
      "| N104UW|      null|   null|   null|              C|    null|      null|    null|       M|     null|\n",
      "| N105UW|      null|   null|   null|              C|    null|      null|    null|       M|     null|\n",
      "| N107US|      null|   null|   null|              C|    null|      null|    null|       M|     null|\n",
      "| N108UW|      null|   null|   null|              C|    null|      null|    null|       M|     null|\n",
      "| N109UW|      null|   null|   null|              C|    null|      null|    null|       M|     null|\n",
      "| N110UW|      null|   null|   null|              C|    null|      null|    null|       M|     null|\n",
      "| N111US|      null|   null|   null|              C|    null|      null|    null|       M|     null|\n",
      "| N11206|         F|   null|   null|           null|    null|      null|    null|       M|     null|\n",
      "| N112US|      null|   null|   null|              C|    null|      null|    null|       M|     null|\n",
      "| N113UW|      null|   null|   null|              C|    null|      null|    null|       M|     null|\n",
      "| N114UW|      null|   null|   null|              C|    null|      null|    null|       M|     null|\n",
      "| N117UW|      null|   null|   null|              C|    null|      null|    null|       M|     null|\n",
      "| N118US|      null|   null|   null|              C|    null|      null|    null|       M|     null|\n",
      "| N119US|      null|   null|   null|              C|    null|      null|    null|       M|     null|\n",
      "| N1200K|      null|   null|   null|           null|    null|      null|    null|       M|     null|\n",
      "| N1201P|      null|   null|   null|           null|    null|      null|    null|       M|     null|\n",
      "| N12114|         F|   null|   null|           null|    null|      null|    null|       M|     null|\n",
      "| N121DE|      null|   null|   null|           null|    null|      null|    null|       M|     null|\n",
      "+-------+----------+-------+-------+---------------+--------+----------+--------+--------+---------+\n",
      "only showing top 20 rows\n",
      "\n"
     ]
    }
   ],
   "source": [
    "df_planes_final.show()"
   ]
  },
  {
   "cell_type": "code",
   "execution_count": 54,
   "metadata": {},
   "outputs": [],
   "source": [
    "(df_planes_final\n",
    "            .repartition(1) # coalesce\n",
    "            .write.format(\"parquet\")\n",
    "            .mode('overwrite')\n",
    "            .option(\"header\", \"true\")\n",
    "            .save(\"../output/planes_qa.parquet\"))"
   ]
  },
  {
   "cell_type": "markdown",
   "metadata": {},
   "source": [
    "## Flights Dataset - Perguntas"
   ]
  },
  {
   "cell_type": "code",
   "execution_count": 55,
   "metadata": {},
   "outputs": [
    {
     "name": "stdout",
     "output_type": "stream",
     "text": [
      "root\n",
      " |-- year: integer (nullable = true)\n",
      " |-- month: integer (nullable = true)\n",
      " |-- day: integer (nullable = true)\n",
      " |-- hour: integer (nullable = true)\n",
      " |-- minute: integer (nullable = true)\n",
      " |-- dep_time: string (nullable = true)\n",
      " |-- arr_time: string (nullable = true)\n",
      " |-- dep_delay: integer (nullable = true)\n",
      " |-- arr_delay: integer (nullable = true)\n",
      " |-- carrier: string (nullable = true)\n",
      " |-- tailnum: string (nullable = true)\n",
      " |-- flight: string (nullable = true)\n",
      " |-- origin: string (nullable = true)\n",
      " |-- dest: string (nullable = true)\n",
      " |-- air_time: integer (nullable = true)\n",
      " |-- distance: integer (nullable = true)\n",
      "\n",
      "+----+-----+---+----+------+--------+--------+---------+---------+-------+-------+------+------+----+--------+--------+\n",
      "|year|month|day|hour|minute|dep_time|arr_time|dep_delay|arr_delay|carrier|tailnum|flight|origin|dest|air_time|distance|\n",
      "+----+-----+---+----+------+--------+--------+---------+---------+-------+-------+------+------+----+--------+--------+\n",
      "|2014|   12|  8|   6|    58|     658|     935|       -7|       -5|     VX| N846VA|  1780|   SEA| LAX|     132|     954|\n",
      "|2014|    1| 22|  10|    40|    1040|    1505|        5|        5|     AS| N559AS|   851|   SEA| HNL|     360|    2677|\n",
      "|2014|    3|  9|  14|    43|    1443|    1652|       -2|        2|     VX| N847VA|   755|   SEA| SFO|     111|     679|\n",
      "|2014|    4|  9|  17|     5|    1705|    1839|       45|       34|     WN| N360SW|   344|   PDX| SJC|      83|     569|\n",
      "|2014|    3|  9|   7|    54|     754|    1015|       -1|        1|     AS| N612AS|   522|   SEA| BUR|     127|     937|\n",
      "|2014|    1| 15|  10|    37|    1037|    1352|        7|        2|     WN| N646SW|    48|   PDX| DEN|     121|     991|\n",
      "|2014|    7|  2|   8|    47|     847|    1041|       42|       51|     WN| N422WN|  1520|   PDX| OAK|      90|     543|\n",
      "|2014|    5| 12|  16|    55|    1655|    1842|       -5|      -18|     VX| N361VA|   755|   SEA| SFO|      98|     679|\n",
      "|2014|    4| 19|  12|    36|    1236|    1508|       -4|       -7|     AS| N309AS|   490|   SEA| SAN|     135|    1050|\n",
      "|2014|   11| 19|  18|    12|    1812|    2352|       -3|       -4|     AS| N564AS|    26|   SEA| ORD|     198|    1721|\n",
      "|2014|   11|  8|  16|    53|    1653|    1924|       -2|       -1|     AS| N323AS|   448|   SEA| LAX|     130|     954|\n",
      "|2014|    8|  3|  11|    20|    1120|    1415|        0|        2|     AS| N305AS|   656|   SEA| PHX|     154|    1107|\n",
      "|2014|   10| 30|   8|    11|     811|    1038|       21|       29|     AS| N433AS|   608|   SEA| LAS|     127|     867|\n",
      "|2014|   11| 12|  23|    46|    2346|     217|       -4|      -28|     AS| N765AS|   121|   SEA| ANC|     183|    1448|\n",
      "|2014|   10| 31|  13|    14|    1314|    1544|       89|      111|     AS| N713AS|   306|   SEA| SFO|     129|     679|\n",
      "|2014|    1| 29|  20|     9|    2009|    2159|        3|        9|     UA| N27205|  1458|   PDX| SFO|      90|     550|\n",
      "|2014|   12| 17|  20|    15|    2015|    2150|       50|       41|     AS| N626AS|   368|   SEA| SMF|      76|     605|\n",
      "|2014|    8| 11|  10|    17|    1017|    1613|       -3|       -7|     WN| N8634A|   827|   SEA| MDW|     216|    1733|\n",
      "|2014|    1| 13|  21|    56|    2156|     607|       -9|      -15|     AS| N597AS|    24|   SEA| BOS|     290|    2496|\n",
      "|2014|    6|  5|  17|    33|    1733|    1945|      -12|      -10|     OO| N215AG|  3488|   PDX| BUR|     111|     817|\n",
      "+----+-----+---+----+------+--------+--------+---------+---------+-------+-------+------+------+----+--------+--------+\n",
      "only showing top 20 rows\n",
      "\n"
     ]
    }
   ],
   "source": [
    "df_flights = df_flights[['year', 'month', 'day','hour', 'minute','dep_time','arr_time', 'dep_delay', 'arr_delay', \n",
    "                         'carrier', 'tailnum', 'flight','origin','dest', 'air_time', 'distance']]\n",
    "\n",
    "df_flights.printSchema()\n",
    "df_flights.show()"
   ]
  },
  {
   "cell_type": "markdown",
   "metadata": {},
   "source": [
    "#### Pergunta 1"
   ]
  },
  {
   "cell_type": "code",
   "execution_count": 56,
   "metadata": {},
   "outputs": [
    {
     "name": "stdout",
     "output_type": "stream",
     "text": [
      "+-----------------+-----+\n",
      "|qa_year_month_day|count|\n",
      "+-----------------+-----+\n",
      "|             null|10000|\n",
      "+-----------------+-----+\n",
      "\n"
     ]
    }
   ],
   "source": [
    "df_flights = (df_flights.withColumn(\"qa_year_month_day\", \n",
    "                    when(col(\"year\").isNull(), \"MY\")\n",
    "                   .when(col(\"month\").isNull(), \"MM\")\n",
    "                   .when(col(\"day\").isNull(), \"MD\")\n",
    "                   .when(col(\"year\") < 1950, \"IY\")\n",
    "                   .when(~(col(\"month\").between(1, 12)) , \"IM\")\n",
    "                   .when(~(col(\"day\").between(1, 31)) , \"ID\")\n",
    "                   .when((col(\"month\") == 2) & ((col(\"day\") >29)) , \"ID\"))            \n",
    "                   \n",
    "                   )\n",
    "\n",
    "df_flights.groupBy(\"qa_year_month_day\").count().distinct().orderBy(\"qa_year_month_day\", ascending=True).show()"
   ]
  },
  {
   "cell_type": "code",
   "execution_count": 57,
   "metadata": {},
   "outputs": [
    {
     "data": {
      "text/html": [
       "<div>\n",
       "<style scoped>\n",
       "    .dataframe tbody tr th:only-of-type {\n",
       "        vertical-align: middle;\n",
       "    }\n",
       "\n",
       "    .dataframe tbody tr th {\n",
       "        vertical-align: top;\n",
       "    }\n",
       "\n",
       "    .dataframe thead th {\n",
       "        text-align: right;\n",
       "    }\n",
       "</style>\n",
       "<table border=\"1\" class=\"dataframe\">\n",
       "  <thead>\n",
       "    <tr style=\"text-align: right;\">\n",
       "      <th></th>\n",
       "      <th>year</th>\n",
       "      <th>month</th>\n",
       "      <th>day</th>\n",
       "      <th>hour</th>\n",
       "      <th>minute</th>\n",
       "      <th>dep_time</th>\n",
       "      <th>arr_time</th>\n",
       "      <th>dep_delay</th>\n",
       "      <th>arr_delay</th>\n",
       "      <th>carrier</th>\n",
       "      <th>tailnum</th>\n",
       "      <th>flight</th>\n",
       "      <th>origin</th>\n",
       "      <th>dest</th>\n",
       "      <th>air_time</th>\n",
       "      <th>distance</th>\n",
       "      <th>qa_year_month_day</th>\n",
       "    </tr>\n",
       "  </thead>\n",
       "  <tbody>\n",
       "  </tbody>\n",
       "</table>\n",
       "</div>"
      ],
      "text/plain": [
       "Empty DataFrame\n",
       "Columns: [year, month, day, hour, minute, dep_time, arr_time, dep_delay, arr_delay, carrier, tailnum, flight, origin, dest, air_time, distance, qa_year_month_day]\n",
       "Index: []"
      ]
     },
     "execution_count": 57,
     "metadata": {},
     "output_type": "execute_result"
    }
   ],
   "source": [
    "df_flights.filter(col('qa_year_month_day') == 'ID').toPandas()"
   ]
  },
  {
   "cell_type": "markdown",
   "metadata": {},
   "source": [
    "#### Pergunta 2"
   ]
  },
  {
   "cell_type": "code",
   "execution_count": 58,
   "metadata": {},
   "outputs": [
    {
     "name": "stdout",
     "output_type": "stream",
     "text": [
      "+--------------+-----+\n",
      "|qa_hour_minute|count|\n",
      "+--------------+-----+\n",
      "|          null| 9952|\n",
      "|            MH|   48|\n",
      "+--------------+-----+\n",
      "\n"
     ]
    }
   ],
   "source": [
    "df_flights = (df_flights.withColumn(\"qa_hour_minute\",\n",
    "                   when(col(\"hour\").isNull(), \"MH\")\n",
    "                  .when(col(\"minute\").isNull(), \"MM\")\n",
    "                  .when(~col(\"hour\").between(0, 24), \"IH\")\n",
    "                  .when(~col(\"minute\").between(0, 59), \"IM\"))\n",
    "       \n",
    "                  )\n",
    "\n",
    "df_flights.groupBy(\"qa_hour_minute\").count().distinct().orderBy(\"qa_hour_minute\", ascending=True).show()"
   ]
  },
  {
   "cell_type": "markdown",
   "metadata": {},
   "source": [
    "#### Pergunta 3"
   ]
  },
  {
   "cell_type": "code",
   "execution_count": 59,
   "metadata": {},
   "outputs": [
    {
     "name": "stdout",
     "output_type": "stream",
     "text": [
      "+---------------+-----+\n",
      "|qa_dep_arr_time|count|\n",
      "+---------------+-----+\n",
      "|           null| 9704|\n",
      "|             FA|  151|\n",
      "|             FD|   90|\n",
      "|             MA|    7|\n",
      "|             MD|   48|\n",
      "+---------------+-----+\n",
      "\n"
     ]
    }
   ],
   "source": [
    "df_flights = df_flights.withColumn(\"qa_dep_arr_time\",\n",
    "         when((col(\"dep_time\").isNull()) | (col(\"dep_time\") == \"NA\") , \"MD\")\n",
    "        .when(col(\"arr_time\").isNull() | (col(\"arr_time\") == \"NA\"),\"MA\")\n",
    "        .when(~col(\"dep_time\").rlike(\"^([0-9]|1[0-9]|2[0-3])[0-5][0-9]$\"), \"FD\")\n",
    "        .when(~col(\"arr_time\").rlike(\"^([0-9]|1[0-9]|2[0-3])[0-5][0-9]$\"), \"FA\")\n",
    ")\n",
    "\n",
    "df_flights.groupBy(\"qa_dep_arr_time\").count().distinct().orderBy(\"qa_dep_arr_time\", ascending=True).show()"
   ]
  },
  {
   "cell_type": "markdown",
   "metadata": {},
   "source": [
    "#### Pergunta 4"
   ]
  },
  {
   "cell_type": "code",
   "execution_count": 60,
   "metadata": {},
   "outputs": [
    {
     "name": "stdout",
     "output_type": "stream",
     "text": [
      "+----------------+-----+\n",
      "|qa_dep_arr_delay|count|\n",
      "+----------------+-----+\n",
      "|            null| 9925|\n",
      "|              MA|   27|\n",
      "|              MD|   48|\n",
      "+----------------+-----+\n",
      "\n"
     ]
    }
   ],
   "source": [
    "df_flights = (df_flights.withColumn(\"qa_dep_arr_delay\",\n",
    "                   when(col(\"dep_delay\").isNull(), \"MD\")\n",
    "                  .when(col(\"arr_delay\").isNull(), \"MA\"))\n",
    "             )\n",
    "\n",
    "df_flights.groupBy(\"qa_dep_arr_delay\").count().distinct().orderBy(\"qa_dep_arr_delay\", ascending=True).show()"
   ]
  },
  {
   "cell_type": "markdown",
   "metadata": {},
   "source": [
    "#### Pergunta 5"
   ]
  },
  {
   "cell_type": "code",
   "execution_count": 61,
   "metadata": {},
   "outputs": [
    {
     "name": "stdout",
     "output_type": "stream",
     "text": [
      "+----------+-----+\n",
      "|qa_carrier|count|\n",
      "+----------+-----+\n",
      "|      null|10000|\n",
      "+----------+-----+\n",
      "\n"
     ]
    }
   ],
   "source": [
    "df_flights = (df_flights.withColumn(\"qa_carrier\",\n",
    "                   when(col(\"carrier\").isNull(), \"M\")\n",
    "                  .when(~col(\"carrier\").rlike(\"([0-9a-zA-Z]{2})\"), \"F\"))\n",
    "             )\n",
    "\n",
    "df_flights.groupBy(\"qa_carrier\").count().distinct().orderBy(\"qa_carrier\", ascending=True).show()"
   ]
  },
  {
   "cell_type": "markdown",
   "metadata": {},
   "source": [
    "#### Pergunta 6"
   ]
  },
  {
   "cell_type": "code",
   "execution_count": 62,
   "metadata": {},
   "outputs": [
    {
     "name": "stdout",
     "output_type": "stream",
     "text": [
      "+----------+-----+\n",
      "|qa_tailnum|count|\n",
      "+----------+-----+\n",
      "|      null| 8997|\n",
      "|         F|  987|\n",
      "|        FN|    2|\n",
      "|         M|   14|\n",
      "+----------+-----+\n",
      "\n"
     ]
    }
   ],
   "source": [
    "df_flights = (df_flights.withColumn('qa_tailnum',\n",
    "                         when((col('tailnum').isNull()) | (col('tailnum') == 'NA') , \"M\")\n",
    "                        .when((length(col('tailnum')) != 5) & (length(col('tailnum')) != 6), \"S\")\n",
    "                        .when((col('tailnum').rlike(\"^N\") == False), \"FN\")\n",
    "                        .when((col('tailnum').rlike(\"^[IO0]\") == True), \"FE\")\n",
    "                        .when((col('tailnum').rlike(\"^N([0-9]{1,4})([A-Z]{1,2}$)\") == False), \"F\"))\n",
    "             )\n",
    "\n",
    "df_flights.groupBy(\"qa_tailnum\").count().distinct().orderBy(\"qa_tailnum\", ascending=True).show()"
   ]
  },
  {
   "cell_type": "markdown",
   "metadata": {},
   "source": [
    "#### Pergunta 7"
   ]
  },
  {
   "cell_type": "code",
   "execution_count": 63,
   "metadata": {},
   "outputs": [
    {
     "name": "stdout",
     "output_type": "stream",
     "text": [
      "+---------+-----+\n",
      "|qa_flight|count|\n",
      "+---------+-----+\n",
      "|     null| 3842|\n",
      "|        F| 6158|\n",
      "+---------+-----+\n",
      "\n"
     ]
    }
   ],
   "source": [
    "df_flights = (df_flights.withColumn(\"qa_flight\",\n",
    "                         when(col(\"flight\").isNull(), \"M\")\n",
    "                        .when(~col(\"flight\").rlike(\"([0-9]{4})\"), \"F\"))\n",
    "             )\n",
    "\n",
    "df_flights.groupBy(\"qa_flight\").count().distinct().orderBy(\"qa_flight\", ascending=True).show()"
   ]
  },
  {
   "cell_type": "markdown",
   "metadata": {},
   "source": [
    "#### Pergunta 8"
   ]
  },
  {
   "cell_type": "code",
   "execution_count": 64,
   "metadata": {},
   "outputs": [
    {
     "name": "stdout",
     "output_type": "stream",
     "text": [
      "+--------------+-----+\n",
      "|qa_origin_dest|count|\n",
      "+--------------+-----+\n",
      "|          null|10000|\n",
      "+--------------+-----+\n",
      "\n"
     ]
    }
   ],
   "source": [
    "df_flights = (df_flights.withColumn(\"qa_origin_dest\",\n",
    "                         when(col(\"origin\").isNull(), \"MO\")\n",
    "                        .when(col(\"dest\").isNull(), \"MD\")   \n",
    "                        .when(~col(\"origin\").rlike(\"\\w{3}\"), \"FO\")\n",
    "                        .when(~col(\"dest\").rlike(\"\\w{3}\"), \"FD\"))\n",
    "             )\n",
    "\n",
    "df_flights.groupBy(\"qa_origin_dest\").count().distinct().orderBy(\"qa_origin_dest\", ascending=True).show()"
   ]
  },
  {
   "cell_type": "markdown",
   "metadata": {},
   "source": [
    "#### Pergunta 9"
   ]
  },
  {
   "cell_type": "code",
   "execution_count": 65,
   "metadata": {},
   "outputs": [
    {
     "name": "stdout",
     "output_type": "stream",
     "text": [
      "+-----------+-----+\n",
      "|qa_air_time|count|\n",
      "+-----------+-----+\n",
      "|       null| 9925|\n",
      "|          M|   75|\n",
      "+-----------+-----+\n",
      "\n"
     ]
    }
   ],
   "source": [
    "df_flights = (df_flights.withColumn(\"qa_air_time\",\n",
    "                         when(col(\"air_time\").isNull(), \"M\")\n",
    "                        .when(~col(\"air_time\").between(20, 500), \"I\"))\n",
    "             )\n",
    "\n",
    "df_flights.groupBy(\"qa_air_time\").count().distinct().orderBy(\"qa_air_time\", ascending=True).show()"
   ]
  },
  {
   "cell_type": "markdown",
   "metadata": {},
   "source": [
    "#### Pergunta 10"
   ]
  },
  {
   "cell_type": "code",
   "execution_count": 66,
   "metadata": {},
   "outputs": [
    {
     "name": "stdout",
     "output_type": "stream",
     "text": [
      "+-----------+-----+\n",
      "|qa_distance|count|\n",
      "+-----------+-----+\n",
      "|       null|10000|\n",
      "+-----------+-----+\n",
      "\n"
     ]
    }
   ],
   "source": [
    "df_flights = (df_flights.withColumn(\"qa_distance\",\n",
    "                         when(col(\"distance\").isNull(), \"M\")\n",
    "                        .when(~col(\"distance\").between(50, 3000), \"I\"))\n",
    "             )\n",
    "\n",
    "df_flights.groupBy(\"qa_distance\").count().distinct().orderBy(\"qa_distance\", ascending=True).show()"
   ]
  },
  {
   "cell_type": "markdown",
   "metadata": {},
   "source": [
    "#### Pergunta 11"
   ]
  },
  {
   "cell_type": "code",
   "execution_count": 67,
   "metadata": {},
   "outputs": [
    {
     "name": "stdout",
     "output_type": "stream",
     "text": [
      "+-------------------+-----+\n",
      "|qa_distance_airtime|count|\n",
      "+-------------------+-----+\n",
      "|                  M|   75|\n",
      "|                 TL| 5027|\n",
      "|                 TR| 4831|\n",
      "|                 TS|   67|\n",
      "+-------------------+-----+\n",
      "\n"
     ]
    }
   ],
   "source": [
    "df_flights = (df_flights.withColumn(\"qa_distance_airtime\",\n",
    "                        when((col(\"distance\").isNull())|(col(\"air_time\").isNull()), \"M\")\n",
    "                       .when((col(\"air_time\")) >= ((col(\"distance\")*0.1) + 30), \"TL\")\n",
    "                       .when((col(\"air_time\")) <= ((col(\"distance\")*0.1) +10), \"TS\")\n",
    "                       .otherwise(\"TR\"))\n",
    "             )\n",
    "\n",
    "df_flights.groupBy(\"qa_distance_airtime\").count().distinct().orderBy(\"qa_distance_airtime\", ascending=True).show()"
   ]
  },
  {
   "cell_type": "markdown",
   "metadata": {},
   "source": [
    "## Salvando arquivo"
   ]
  },
  {
   "cell_type": "code",
   "execution_count": 68,
   "metadata": {},
   "outputs": [
    {
     "data": {
      "text/html": [
       "<div>\n",
       "<style scoped>\n",
       "    .dataframe tbody tr th:only-of-type {\n",
       "        vertical-align: middle;\n",
       "    }\n",
       "\n",
       "    .dataframe tbody tr th {\n",
       "        vertical-align: top;\n",
       "    }\n",
       "\n",
       "    .dataframe thead th {\n",
       "        text-align: right;\n",
       "    }\n",
       "</style>\n",
       "<table border=\"1\" class=\"dataframe\">\n",
       "  <thead>\n",
       "    <tr style=\"text-align: right;\">\n",
       "      <th></th>\n",
       "      <th>year</th>\n",
       "      <th>month</th>\n",
       "      <th>day</th>\n",
       "      <th>hour</th>\n",
       "      <th>minute</th>\n",
       "      <th>dep_time</th>\n",
       "      <th>arr_time</th>\n",
       "      <th>dep_delay</th>\n",
       "      <th>arr_delay</th>\n",
       "      <th>carrier</th>\n",
       "      <th>...</th>\n",
       "      <th>qa_hour_minute</th>\n",
       "      <th>qa_dep_arr_time</th>\n",
       "      <th>qa_dep_arr_delay</th>\n",
       "      <th>qa_carrier</th>\n",
       "      <th>qa_tailnum</th>\n",
       "      <th>qa_flight</th>\n",
       "      <th>qa_origin_dest</th>\n",
       "      <th>qa_air_time</th>\n",
       "      <th>qa_distance</th>\n",
       "      <th>qa_distance_airtime</th>\n",
       "    </tr>\n",
       "  </thead>\n",
       "  <tbody>\n",
       "    <tr>\n",
       "      <th>0</th>\n",
       "      <td>2014</td>\n",
       "      <td>12</td>\n",
       "      <td>8</td>\n",
       "      <td>6.0</td>\n",
       "      <td>58.0</td>\n",
       "      <td>658</td>\n",
       "      <td>935</td>\n",
       "      <td>-7.0</td>\n",
       "      <td>-5.0</td>\n",
       "      <td>VX</td>\n",
       "      <td>...</td>\n",
       "      <td>None</td>\n",
       "      <td>None</td>\n",
       "      <td>None</td>\n",
       "      <td>None</td>\n",
       "      <td>None</td>\n",
       "      <td>None</td>\n",
       "      <td>None</td>\n",
       "      <td>None</td>\n",
       "      <td>None</td>\n",
       "      <td>TL</td>\n",
       "    </tr>\n",
       "    <tr>\n",
       "      <th>1</th>\n",
       "      <td>2014</td>\n",
       "      <td>1</td>\n",
       "      <td>22</td>\n",
       "      <td>10.0</td>\n",
       "      <td>40.0</td>\n",
       "      <td>1040</td>\n",
       "      <td>1505</td>\n",
       "      <td>5.0</td>\n",
       "      <td>5.0</td>\n",
       "      <td>AS</td>\n",
       "      <td>...</td>\n",
       "      <td>None</td>\n",
       "      <td>None</td>\n",
       "      <td>None</td>\n",
       "      <td>None</td>\n",
       "      <td>None</td>\n",
       "      <td>F</td>\n",
       "      <td>None</td>\n",
       "      <td>None</td>\n",
       "      <td>None</td>\n",
       "      <td>TL</td>\n",
       "    </tr>\n",
       "    <tr>\n",
       "      <th>2</th>\n",
       "      <td>2014</td>\n",
       "      <td>3</td>\n",
       "      <td>9</td>\n",
       "      <td>14.0</td>\n",
       "      <td>43.0</td>\n",
       "      <td>1443</td>\n",
       "      <td>1652</td>\n",
       "      <td>-2.0</td>\n",
       "      <td>2.0</td>\n",
       "      <td>VX</td>\n",
       "      <td>...</td>\n",
       "      <td>None</td>\n",
       "      <td>None</td>\n",
       "      <td>None</td>\n",
       "      <td>None</td>\n",
       "      <td>None</td>\n",
       "      <td>F</td>\n",
       "      <td>None</td>\n",
       "      <td>None</td>\n",
       "      <td>None</td>\n",
       "      <td>TL</td>\n",
       "    </tr>\n",
       "    <tr>\n",
       "      <th>3</th>\n",
       "      <td>2014</td>\n",
       "      <td>4</td>\n",
       "      <td>9</td>\n",
       "      <td>17.0</td>\n",
       "      <td>5.0</td>\n",
       "      <td>1705</td>\n",
       "      <td>1839</td>\n",
       "      <td>45.0</td>\n",
       "      <td>34.0</td>\n",
       "      <td>WN</td>\n",
       "      <td>...</td>\n",
       "      <td>None</td>\n",
       "      <td>None</td>\n",
       "      <td>None</td>\n",
       "      <td>None</td>\n",
       "      <td>None</td>\n",
       "      <td>F</td>\n",
       "      <td>None</td>\n",
       "      <td>None</td>\n",
       "      <td>None</td>\n",
       "      <td>TR</td>\n",
       "    </tr>\n",
       "    <tr>\n",
       "      <th>4</th>\n",
       "      <td>2014</td>\n",
       "      <td>3</td>\n",
       "      <td>9</td>\n",
       "      <td>7.0</td>\n",
       "      <td>54.0</td>\n",
       "      <td>754</td>\n",
       "      <td>1015</td>\n",
       "      <td>-1.0</td>\n",
       "      <td>1.0</td>\n",
       "      <td>AS</td>\n",
       "      <td>...</td>\n",
       "      <td>None</td>\n",
       "      <td>None</td>\n",
       "      <td>None</td>\n",
       "      <td>None</td>\n",
       "      <td>None</td>\n",
       "      <td>F</td>\n",
       "      <td>None</td>\n",
       "      <td>None</td>\n",
       "      <td>None</td>\n",
       "      <td>TL</td>\n",
       "    </tr>\n",
       "    <tr>\n",
       "      <th>...</th>\n",
       "      <td>...</td>\n",
       "      <td>...</td>\n",
       "      <td>...</td>\n",
       "      <td>...</td>\n",
       "      <td>...</td>\n",
       "      <td>...</td>\n",
       "      <td>...</td>\n",
       "      <td>...</td>\n",
       "      <td>...</td>\n",
       "      <td>...</td>\n",
       "      <td>...</td>\n",
       "      <td>...</td>\n",
       "      <td>...</td>\n",
       "      <td>...</td>\n",
       "      <td>...</td>\n",
       "      <td>...</td>\n",
       "      <td>...</td>\n",
       "      <td>...</td>\n",
       "      <td>...</td>\n",
       "      <td>...</td>\n",
       "      <td>...</td>\n",
       "    </tr>\n",
       "    <tr>\n",
       "      <th>9995</th>\n",
       "      <td>2014</td>\n",
       "      <td>6</td>\n",
       "      <td>23</td>\n",
       "      <td>18.0</td>\n",
       "      <td>6.0</td>\n",
       "      <td>1806</td>\n",
       "      <td>2104</td>\n",
       "      <td>-4.0</td>\n",
       "      <td>-6.0</td>\n",
       "      <td>OO</td>\n",
       "      <td>...</td>\n",
       "      <td>None</td>\n",
       "      <td>None</td>\n",
       "      <td>None</td>\n",
       "      <td>None</td>\n",
       "      <td>None</td>\n",
       "      <td>None</td>\n",
       "      <td>None</td>\n",
       "      <td>None</td>\n",
       "      <td>None</td>\n",
       "      <td>TR</td>\n",
       "    </tr>\n",
       "    <tr>\n",
       "      <th>9996</th>\n",
       "      <td>2014</td>\n",
       "      <td>8</td>\n",
       "      <td>31</td>\n",
       "      <td>23.0</td>\n",
       "      <td>36.0</td>\n",
       "      <td>2336</td>\n",
       "      <td>452</td>\n",
       "      <td>11.0</td>\n",
       "      <td>-13.0</td>\n",
       "      <td>AA</td>\n",
       "      <td>...</td>\n",
       "      <td>None</td>\n",
       "      <td>None</td>\n",
       "      <td>None</td>\n",
       "      <td>None</td>\n",
       "      <td>F</td>\n",
       "      <td>None</td>\n",
       "      <td>None</td>\n",
       "      <td>None</td>\n",
       "      <td>None</td>\n",
       "      <td>TR</td>\n",
       "    </tr>\n",
       "    <tr>\n",
       "      <th>9997</th>\n",
       "      <td>2014</td>\n",
       "      <td>8</td>\n",
       "      <td>8</td>\n",
       "      <td>9.0</td>\n",
       "      <td>4.0</td>\n",
       "      <td>904</td>\n",
       "      <td>1042</td>\n",
       "      <td>-1.0</td>\n",
       "      <td>-5.0</td>\n",
       "      <td>AS</td>\n",
       "      <td>...</td>\n",
       "      <td>None</td>\n",
       "      <td>None</td>\n",
       "      <td>None</td>\n",
       "      <td>None</td>\n",
       "      <td>None</td>\n",
       "      <td>F</td>\n",
       "      <td>None</td>\n",
       "      <td>None</td>\n",
       "      <td>None</td>\n",
       "      <td>TR</td>\n",
       "    </tr>\n",
       "    <tr>\n",
       "      <th>9998</th>\n",
       "      <td>2014</td>\n",
       "      <td>8</td>\n",
       "      <td>29</td>\n",
       "      <td>14.0</td>\n",
       "      <td>41.0</td>\n",
       "      <td>1441</td>\n",
       "      <td>1820</td>\n",
       "      <td>26.0</td>\n",
       "      <td>10.0</td>\n",
       "      <td>WN</td>\n",
       "      <td>...</td>\n",
       "      <td>None</td>\n",
       "      <td>None</td>\n",
       "      <td>None</td>\n",
       "      <td>None</td>\n",
       "      <td>None</td>\n",
       "      <td>None</td>\n",
       "      <td>None</td>\n",
       "      <td>None</td>\n",
       "      <td>None</td>\n",
       "      <td>TR</td>\n",
       "    </tr>\n",
       "    <tr>\n",
       "      <th>9999</th>\n",
       "      <td>2014</td>\n",
       "      <td>7</td>\n",
       "      <td>13</td>\n",
       "      <td>17.0</td>\n",
       "      <td>2.0</td>\n",
       "      <td>1702</td>\n",
       "      <td>1950</td>\n",
       "      <td>-3.0</td>\n",
       "      <td>-10.0</td>\n",
       "      <td>DL</td>\n",
       "      <td>...</td>\n",
       "      <td>None</td>\n",
       "      <td>None</td>\n",
       "      <td>None</td>\n",
       "      <td>None</td>\n",
       "      <td>None</td>\n",
       "      <td>None</td>\n",
       "      <td>None</td>\n",
       "      <td>None</td>\n",
       "      <td>None</td>\n",
       "      <td>TL</td>\n",
       "    </tr>\n",
       "  </tbody>\n",
       "</table>\n",
       "<p>10000 rows × 27 columns</p>\n",
       "</div>"
      ],
      "text/plain": [
       "      year  month  day  hour  minute dep_time arr_time  dep_delay  arr_delay  \\\n",
       "0     2014     12    8   6.0    58.0      658      935       -7.0       -5.0   \n",
       "1     2014      1   22  10.0    40.0     1040     1505        5.0        5.0   \n",
       "2     2014      3    9  14.0    43.0     1443     1652       -2.0        2.0   \n",
       "3     2014      4    9  17.0     5.0     1705     1839       45.0       34.0   \n",
       "4     2014      3    9   7.0    54.0      754     1015       -1.0        1.0   \n",
       "...    ...    ...  ...   ...     ...      ...      ...        ...        ...   \n",
       "9995  2014      6   23  18.0     6.0     1806     2104       -4.0       -6.0   \n",
       "9996  2014      8   31  23.0    36.0     2336      452       11.0      -13.0   \n",
       "9997  2014      8    8   9.0     4.0      904     1042       -1.0       -5.0   \n",
       "9998  2014      8   29  14.0    41.0     1441     1820       26.0       10.0   \n",
       "9999  2014      7   13  17.0     2.0     1702     1950       -3.0      -10.0   \n",
       "\n",
       "     carrier  ... qa_hour_minute qa_dep_arr_time qa_dep_arr_delay qa_carrier  \\\n",
       "0         VX  ...           None            None             None       None   \n",
       "1         AS  ...           None            None             None       None   \n",
       "2         VX  ...           None            None             None       None   \n",
       "3         WN  ...           None            None             None       None   \n",
       "4         AS  ...           None            None             None       None   \n",
       "...      ...  ...            ...             ...              ...        ...   \n",
       "9995      OO  ...           None            None             None       None   \n",
       "9996      AA  ...           None            None             None       None   \n",
       "9997      AS  ...           None            None             None       None   \n",
       "9998      WN  ...           None            None             None       None   \n",
       "9999      DL  ...           None            None             None       None   \n",
       "\n",
       "      qa_tailnum  qa_flight qa_origin_dest qa_air_time qa_distance  \\\n",
       "0           None       None           None        None        None   \n",
       "1           None          F           None        None        None   \n",
       "2           None          F           None        None        None   \n",
       "3           None          F           None        None        None   \n",
       "4           None          F           None        None        None   \n",
       "...          ...        ...            ...         ...         ...   \n",
       "9995        None       None           None        None        None   \n",
       "9996           F       None           None        None        None   \n",
       "9997        None          F           None        None        None   \n",
       "9998        None       None           None        None        None   \n",
       "9999        None       None           None        None        None   \n",
       "\n",
       "     qa_distance_airtime  \n",
       "0                     TL  \n",
       "1                     TL  \n",
       "2                     TL  \n",
       "3                     TR  \n",
       "4                     TL  \n",
       "...                  ...  \n",
       "9995                  TR  \n",
       "9996                  TR  \n",
       "9997                  TR  \n",
       "9998                  TR  \n",
       "9999                  TL  \n",
       "\n",
       "[10000 rows x 27 columns]"
      ]
     },
     "execution_count": 68,
     "metadata": {},
     "output_type": "execute_result"
    }
   ],
   "source": [
    "df_flights.toPandas()"
   ]
  },
  {
   "cell_type": "code",
   "execution_count": 69,
   "metadata": {},
   "outputs": [],
   "source": [
    "df_flights_final = df_flights.drop('year', 'month', 'day', 'hour', 'minute', 'dep_time', 'arr_time', 'dep_delay',\n",
    "                                  'arr_delay', 'carrier', 'flight', 'air_time', 'distance')"
   ]
  },
  {
   "cell_type": "code",
   "execution_count": 70,
   "metadata": {},
   "outputs": [
    {
     "data": {
      "text/html": [
       "<div>\n",
       "<style scoped>\n",
       "    .dataframe tbody tr th:only-of-type {\n",
       "        vertical-align: middle;\n",
       "    }\n",
       "\n",
       "    .dataframe tbody tr th {\n",
       "        vertical-align: top;\n",
       "    }\n",
       "\n",
       "    .dataframe thead th {\n",
       "        text-align: right;\n",
       "    }\n",
       "</style>\n",
       "<table border=\"1\" class=\"dataframe\">\n",
       "  <thead>\n",
       "    <tr style=\"text-align: right;\">\n",
       "      <th></th>\n",
       "      <th>tailnum</th>\n",
       "      <th>origin</th>\n",
       "      <th>dest</th>\n",
       "      <th>qa_year_month_day</th>\n",
       "      <th>qa_hour_minute</th>\n",
       "      <th>qa_dep_arr_time</th>\n",
       "      <th>qa_dep_arr_delay</th>\n",
       "      <th>qa_carrier</th>\n",
       "      <th>qa_tailnum</th>\n",
       "      <th>qa_flight</th>\n",
       "      <th>qa_origin_dest</th>\n",
       "      <th>qa_air_time</th>\n",
       "      <th>qa_distance</th>\n",
       "      <th>qa_distance_airtime</th>\n",
       "    </tr>\n",
       "  </thead>\n",
       "  <tbody>\n",
       "    <tr>\n",
       "      <th>0</th>\n",
       "      <td>N846VA</td>\n",
       "      <td>SEA</td>\n",
       "      <td>LAX</td>\n",
       "      <td>None</td>\n",
       "      <td>None</td>\n",
       "      <td>None</td>\n",
       "      <td>None</td>\n",
       "      <td>None</td>\n",
       "      <td>None</td>\n",
       "      <td>None</td>\n",
       "      <td>None</td>\n",
       "      <td>None</td>\n",
       "      <td>None</td>\n",
       "      <td>TL</td>\n",
       "    </tr>\n",
       "    <tr>\n",
       "      <th>1</th>\n",
       "      <td>N559AS</td>\n",
       "      <td>SEA</td>\n",
       "      <td>HNL</td>\n",
       "      <td>None</td>\n",
       "      <td>None</td>\n",
       "      <td>None</td>\n",
       "      <td>None</td>\n",
       "      <td>None</td>\n",
       "      <td>None</td>\n",
       "      <td>F</td>\n",
       "      <td>None</td>\n",
       "      <td>None</td>\n",
       "      <td>None</td>\n",
       "      <td>TL</td>\n",
       "    </tr>\n",
       "    <tr>\n",
       "      <th>2</th>\n",
       "      <td>N847VA</td>\n",
       "      <td>SEA</td>\n",
       "      <td>SFO</td>\n",
       "      <td>None</td>\n",
       "      <td>None</td>\n",
       "      <td>None</td>\n",
       "      <td>None</td>\n",
       "      <td>None</td>\n",
       "      <td>None</td>\n",
       "      <td>F</td>\n",
       "      <td>None</td>\n",
       "      <td>None</td>\n",
       "      <td>None</td>\n",
       "      <td>TL</td>\n",
       "    </tr>\n",
       "    <tr>\n",
       "      <th>3</th>\n",
       "      <td>N360SW</td>\n",
       "      <td>PDX</td>\n",
       "      <td>SJC</td>\n",
       "      <td>None</td>\n",
       "      <td>None</td>\n",
       "      <td>None</td>\n",
       "      <td>None</td>\n",
       "      <td>None</td>\n",
       "      <td>None</td>\n",
       "      <td>F</td>\n",
       "      <td>None</td>\n",
       "      <td>None</td>\n",
       "      <td>None</td>\n",
       "      <td>TR</td>\n",
       "    </tr>\n",
       "    <tr>\n",
       "      <th>4</th>\n",
       "      <td>N612AS</td>\n",
       "      <td>SEA</td>\n",
       "      <td>BUR</td>\n",
       "      <td>None</td>\n",
       "      <td>None</td>\n",
       "      <td>None</td>\n",
       "      <td>None</td>\n",
       "      <td>None</td>\n",
       "      <td>None</td>\n",
       "      <td>F</td>\n",
       "      <td>None</td>\n",
       "      <td>None</td>\n",
       "      <td>None</td>\n",
       "      <td>TL</td>\n",
       "    </tr>\n",
       "    <tr>\n",
       "      <th>...</th>\n",
       "      <td>...</td>\n",
       "      <td>...</td>\n",
       "      <td>...</td>\n",
       "      <td>...</td>\n",
       "      <td>...</td>\n",
       "      <td>...</td>\n",
       "      <td>...</td>\n",
       "      <td>...</td>\n",
       "      <td>...</td>\n",
       "      <td>...</td>\n",
       "      <td>...</td>\n",
       "      <td>...</td>\n",
       "      <td>...</td>\n",
       "      <td>...</td>\n",
       "    </tr>\n",
       "    <tr>\n",
       "      <th>9995</th>\n",
       "      <td>N225AG</td>\n",
       "      <td>SEA</td>\n",
       "      <td>SLC</td>\n",
       "      <td>None</td>\n",
       "      <td>None</td>\n",
       "      <td>None</td>\n",
       "      <td>None</td>\n",
       "      <td>None</td>\n",
       "      <td>None</td>\n",
       "      <td>None</td>\n",
       "      <td>None</td>\n",
       "      <td>None</td>\n",
       "      <td>None</td>\n",
       "      <td>TR</td>\n",
       "    </tr>\n",
       "    <tr>\n",
       "      <th>9996</th>\n",
       "      <td>N3LEAA</td>\n",
       "      <td>SEA</td>\n",
       "      <td>DFW</td>\n",
       "      <td>None</td>\n",
       "      <td>None</td>\n",
       "      <td>None</td>\n",
       "      <td>None</td>\n",
       "      <td>None</td>\n",
       "      <td>F</td>\n",
       "      <td>None</td>\n",
       "      <td>None</td>\n",
       "      <td>None</td>\n",
       "      <td>None</td>\n",
       "      <td>TR</td>\n",
       "    </tr>\n",
       "    <tr>\n",
       "      <th>9997</th>\n",
       "      <td>N523AS</td>\n",
       "      <td>SEA</td>\n",
       "      <td>SMF</td>\n",
       "      <td>None</td>\n",
       "      <td>None</td>\n",
       "      <td>None</td>\n",
       "      <td>None</td>\n",
       "      <td>None</td>\n",
       "      <td>None</td>\n",
       "      <td>F</td>\n",
       "      <td>None</td>\n",
       "      <td>None</td>\n",
       "      <td>None</td>\n",
       "      <td>TR</td>\n",
       "    </tr>\n",
       "    <tr>\n",
       "      <th>9998</th>\n",
       "      <td>N8647A</td>\n",
       "      <td>SEA</td>\n",
       "      <td>ABQ</td>\n",
       "      <td>None</td>\n",
       "      <td>None</td>\n",
       "      <td>None</td>\n",
       "      <td>None</td>\n",
       "      <td>None</td>\n",
       "      <td>None</td>\n",
       "      <td>None</td>\n",
       "      <td>None</td>\n",
       "      <td>None</td>\n",
       "      <td>None</td>\n",
       "      <td>TR</td>\n",
       "    </tr>\n",
       "    <tr>\n",
       "      <th>9999</th>\n",
       "      <td>N583NW</td>\n",
       "      <td>SEA</td>\n",
       "      <td>HNL</td>\n",
       "      <td>None</td>\n",
       "      <td>None</td>\n",
       "      <td>None</td>\n",
       "      <td>None</td>\n",
       "      <td>None</td>\n",
       "      <td>None</td>\n",
       "      <td>None</td>\n",
       "      <td>None</td>\n",
       "      <td>None</td>\n",
       "      <td>None</td>\n",
       "      <td>TL</td>\n",
       "    </tr>\n",
       "  </tbody>\n",
       "</table>\n",
       "<p>10000 rows × 14 columns</p>\n",
       "</div>"
      ],
      "text/plain": [
       "     tailnum origin dest qa_year_month_day qa_hour_minute qa_dep_arr_time  \\\n",
       "0     N846VA    SEA  LAX              None           None            None   \n",
       "1     N559AS    SEA  HNL              None           None            None   \n",
       "2     N847VA    SEA  SFO              None           None            None   \n",
       "3     N360SW    PDX  SJC              None           None            None   \n",
       "4     N612AS    SEA  BUR              None           None            None   \n",
       "...      ...    ...  ...               ...            ...             ...   \n",
       "9995  N225AG    SEA  SLC              None           None            None   \n",
       "9996  N3LEAA    SEA  DFW              None           None            None   \n",
       "9997  N523AS    SEA  SMF              None           None            None   \n",
       "9998  N8647A    SEA  ABQ              None           None            None   \n",
       "9999  N583NW    SEA  HNL              None           None            None   \n",
       "\n",
       "     qa_dep_arr_delay qa_carrier qa_tailnum qa_flight qa_origin_dest  \\\n",
       "0                None       None       None      None           None   \n",
       "1                None       None       None         F           None   \n",
       "2                None       None       None         F           None   \n",
       "3                None       None       None         F           None   \n",
       "4                None       None       None         F           None   \n",
       "...               ...        ...        ...       ...            ...   \n",
       "9995             None       None       None      None           None   \n",
       "9996             None       None          F      None           None   \n",
       "9997             None       None       None         F           None   \n",
       "9998             None       None       None      None           None   \n",
       "9999             None       None       None      None           None   \n",
       "\n",
       "     qa_air_time qa_distance qa_distance_airtime  \n",
       "0           None        None                  TL  \n",
       "1           None        None                  TL  \n",
       "2           None        None                  TL  \n",
       "3           None        None                  TR  \n",
       "4           None        None                  TL  \n",
       "...          ...         ...                 ...  \n",
       "9995        None        None                  TR  \n",
       "9996        None        None                  TR  \n",
       "9997        None        None                  TR  \n",
       "9998        None        None                  TR  \n",
       "9999        None        None                  TL  \n",
       "\n",
       "[10000 rows x 14 columns]"
      ]
     },
     "execution_count": 70,
     "metadata": {},
     "output_type": "execute_result"
    }
   ],
   "source": [
    "df_flights_final.toPandas()"
   ]
  },
  {
   "cell_type": "code",
   "execution_count": 71,
   "metadata": {},
   "outputs": [],
   "source": [
    "(df_flights_final\n",
    "            .repartition(1) # coalesce\n",
    "            .write.format(\"parquet\")\n",
    "            .mode('overwrite')\n",
    "            .option(\"header\", \"true\")\n",
    "            .save(\"../output/flights_qa.parquet\"))"
   ]
  }
 ],
 "metadata": {
  "kernelspec": {
   "display_name": "Python 3 (ipykernel)",
   "language": "python",
   "name": "python3"
  },
  "language_info": {
   "codemirror_mode": {
    "name": "ipython",
    "version": 3
   },
   "file_extension": ".py",
   "mimetype": "text/x-python",
   "name": "python",
   "nbconvert_exporter": "python",
   "pygments_lexer": "ipython3",
   "version": "3.9.7"
  }
 },
 "nbformat": 4,
 "nbformat_minor": 4
}
